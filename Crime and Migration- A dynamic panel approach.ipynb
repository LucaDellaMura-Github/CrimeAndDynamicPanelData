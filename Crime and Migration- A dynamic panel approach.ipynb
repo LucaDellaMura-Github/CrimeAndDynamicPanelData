{
 "cells": [
  {
   "cell_type": "code",
   "execution_count": 1,
   "id": "cbc4d107",
   "metadata": {
    "scrolled": true
   },
   "outputs": [
    {
     "name": "stdout",
     "output_type": "stream",
     "text": [
      "Requirement already satisfied: polars in c:\\users\\me\\miniconda3\\lib\\site-packages (1.23.0)\n"
     ]
    }
   ],
   "source": [
    "!pip install polars\n"
   ]
  },
  {
   "cell_type": "code",
   "execution_count": 2,
   "id": "d34982ab",
   "metadata": {
    "scrolled": true
   },
   "outputs": [],
   "source": [
    "import polars as pl\n",
    "import glob\n",
    "import pandas as pd"
   ]
  },
  {
   "cell_type": "code",
   "execution_count": 3,
   "id": "a9987b91",
   "metadata": {},
   "outputs": [],
   "source": [
    "# polars settings\n",
    "#show 50 columns by default\n",
    "pl.Config().set_tbl_cols(50)\n",
    "# enable string chaing\n",
    "pl.enable_string_cache()"
   ]
  },
  {
   "cell_type": "code",
   "execution_count": 4,
   "id": "3b4cc527",
   "metadata": {},
   "outputs": [
    {
     "data": {
      "text/html": [
       "\n",
       "<style>\n",
       "    div#notebook-container    { width: 50%; }\n",
       "    div#menubar-container     { width: 65%; }\n",
       "    div#maintoolbar-container { width: 99%; }\n",
       "</style>\n"
      ],
      "text/plain": [
       "<IPython.core.display.HTML object>"
      ]
     },
     "metadata": {},
     "output_type": "display_data"
    }
   ],
   "source": [
    "# change display of result container here:\n",
    "from IPython.display import display, HTML\n",
    "\n",
    "display(HTML(data=\"\"\"\n",
    "<style>\n",
    "    div#notebook-container    { width: 50%; }\n",
    "    div#menubar-container     { width: 65%; }\n",
    "    div#maintoolbar-container { width: 99%; }\n",
    "</style>\n",
    "\"\"\"))"
   ]
  },
  {
   "cell_type": "code",
   "execution_count": 5,
   "id": "1cd540f0",
   "metadata": {
    "scrolled": true
   },
   "outputs": [],
   "source": [
    "# get all the filenames\n",
    "csv_files_crimes_non_germans = glob.glob(r\"C:\\Users\\Me\\migration and crime data\\crime\\*nichtdeutsch*.csv\")\n",
    "csv_files_crimes_germans = [x for x in glob.glob(r\"C:\\Users\\Me\\migration and crime data\\crime\\*deutsch*.csv\") if x not in csv_files_crimes_non_germans]"
   ]
  },
  {
   "cell_type": "code",
   "execution_count": 6,
   "id": "6767d203",
   "metadata": {
    "scrolled": true
   },
   "outputs": [
    {
     "data": {
      "text/plain": [
       "['C:\\\\Users\\\\Me\\\\migration and crime data\\\\crime\\\\PKS2018-BKA-LKS-TV-09-T40-Kreise-TV-deutsch_csv.csv',\n",
       " 'C:\\\\Users\\\\Me\\\\migration and crime data\\\\crime\\\\PKS2019-KR-TV-03-T40-Kreise-TV-deutsch_csv.csv',\n",
       " 'C:\\\\Users\\\\Me\\\\migration and crime data\\\\crime\\\\PKS2021-KR-TV-03-T40-Kreise-TV-deutsch_csv.csv',\n",
       " 'C:\\\\Users\\\\Me\\\\migration and crime data\\\\crime\\\\PKS2023-KR-TV-03-T40-Kreise-TV-deutsch_csv.csv']"
      ]
     },
     "execution_count": 6,
     "metadata": {},
     "output_type": "execute_result"
    }
   ],
   "source": [
    "# check if the german list is missing files\n",
    "csv_files_crimes_germans"
   ]
  },
  {
   "cell_type": "code",
   "execution_count": 7,
   "id": "273098eb",
   "metadata": {},
   "outputs": [
    {
     "data": {
      "text/plain": [
       "['C:\\\\Users\\\\Me\\\\migration and crime data\\\\crime\\\\PKS2018-BKA-LKS-TV-11-T50-Kreise-TV-nichtdeutsch_csv.csv',\n",
       " 'C:\\\\Users\\\\Me\\\\migration and crime data\\\\crime\\\\PKS2019-KR-TV-05-T50-Kreise-TV-nichtdeutsch_csv.csv',\n",
       " 'C:\\\\Users\\\\Me\\\\migration and crime data\\\\crime\\\\PKS2021-KR-TV-05-T50-Kreise-TV-nichtdeutsch_csv.csv',\n",
       " 'C:\\\\Users\\\\Me\\\\migration and crime data\\\\crime\\\\PKS203-KR-TV-05-T50-Kreise-TV-nichtdeutsch_csv.csv']"
      ]
     },
     "execution_count": 7,
     "metadata": {},
     "output_type": "execute_result"
    }
   ],
   "source": [
    "# check if the non german list is missing files\n",
    "csv_files_crimes_non_germans"
   ]
  },
  {
   "cell_type": "code",
   "execution_count": 8,
   "id": "93d69fe1",
   "metadata": {
    "scrolled": true
   },
   "outputs": [],
   "source": [
    "# detect encoding\n",
    "import chardet\n",
    "with open('C:\\\\Users\\\\Me\\\\migration and crime data\\\\crime\\\\PKS2018-BKA-LKS-TV-09-T40-Kreise-TV-deutsch_csv.csv', 'rb') as f:\n",
    "    result = chardet.detect(f.read())"
   ]
  },
  {
   "cell_type": "code",
   "execution_count": 9,
   "id": "925df4bc",
   "metadata": {
    "scrolled": true
   },
   "outputs": [
    {
     "name": "stdout",
     "output_type": "stream",
     "text": [
      "Line 1: 1;2;3;4;5;6;7;8;9;10;11;12;13;14;15;16;17;18;19;20;21;22;23;24;25;26;27\n",
      "Line 2: Schluessel;Straftat;Gemeindeschluessel;Stadt/Landkreis;Kreisart;Sexus;Tatverdaechtige deutsch insgesamt - Anzahl;Kinder bis unter 6 Jahre - Anzahl;Kinder 6 bis unter 8 Jahre Anzahl;Kinder 8 bis unter 10 Jahre - Anzahl;Kinder 10 bis unter 12 Jahre - Anzahl;Kinder 12 bis unter 14 Jahre - Anzahl;Kinder bis unter 14 Jahre insgesamt (Anzahl Spalte 8 bis 12);Jugendliche 14 bis unter 16 Jahre - Anzahl;Jugendliche 16 bis unter 18 Jahre - Anzahl;Jugendliche 14 bis unter 18 Jahre insgesamt (Anzahl Spalte 14 und 15);Heranwachsende 18 bis unter 21 Jahre - Anzahl;Tatverdaechtige insgesamt unter 21 Jahre (Anzahl Spalte 13, 16 und 17);Erwachsene 21 bis unter 23 Jahre - Anzahl;Erwachsene 23 bis unter 25 Jahre - Anzahl;Erwachsene 21 bis unter 25 Jahre (Anzahl Spalte 19 und 20);Erwachsene 25 bis unter 30 Jahre;Erwachsene 30 bis unter 40 Jahre;Erwachsene 40 bis unter 50 Jahre;Erwachsene 50 bis unter 60 Jahre;Erwachsene 60 Jahre und aelter;Erwachsene ab 21 Jahre (Anzahl Spalten 21 bis 26)\n",
      "Line 3: ------;Straftaten insgesamt;1001;Flensburg;KfS;M;1,652;0;4;10;13;28;55;59;74;133;139;327;115;107;222;226;372;235;168;102;1,325\n",
      "Line 4: ------;Straftaten insgesamt;1002;Kiel;KfS;M;4,215;1;12;15;29;61;118;177;184;361;331;810;279;246;525;599;844;611;516;310;3,405\n",
      "Line 5: ------;Straftaten insgesamt;1003;Lübeck;KfS;M;4,262;2;13;18;22;53;108;144;227;371;315;794;246;251;497;536;903;636;560;336;3,468\n"
     ]
    }
   ],
   "source": [
    "# check file content (first 5 lines)\n",
    "with open('C:\\\\Users\\\\Me\\\\migration and crime data\\\\crime\\\\PKS2018-BKA-LKS-TV-09-T40-Kreise-TV-deutsch_csv.csv', \"r\", encoding=result['encoding']) as f:\n",
    "    lines = f.readlines()[:5]  # Get first 5 lines\n",
    "    for i, line in enumerate(lines, 1):\n",
    "         print(f\"Line {i}: {line.strip()}\")"
   ]
  },
  {
   "cell_type": "code",
   "execution_count": null,
   "id": "79307c68",
   "metadata": {},
   "outputs": [],
   "source": []
  },
  {
   "cell_type": "code",
   "execution_count": 10,
   "id": "f798d731",
   "metadata": {},
   "outputs": [],
   "source": [
    "# when reading the data define a schema\n",
    "enforced_schema = {\n",
    "    # Identifier columns\n",
    "    \"Schluessel\": pl.String,\n",
    "    \"Gemeindeschluessel\": pl.String,\n",
    "    \n",
    "    # Categorical columns\n",
    "    \"Straftat\": pl.Categorical,\n",
    "    \"Stadt/Landkreis\": pl.Categorical,\n",
    "    \"Kreisart\": pl.Categorical,\n",
    "    \"Sexus\": pl.Categorical,\n",
    "    \n",
    "    # Numeric columns with German formatting (1.204 -> 1204)\n",
    "    **{\n",
    "        col: pl.Int64\n",
    "        for col in [\n",
    "            \"Tatverdaechtige insgesamt - Anzahl\",\n",
    "            \"Kinder bis unter 6 Jahre - Anzahl\",\n",
    "            \"Kinder 6 bis unter 8 Jahre Anzahl\",\n",
    "            \"Kinder 8 bis unter 10 Jahre - Anzahl\",\n",
    "            \"Kinder 10 bis unter 12 Jahre - Anzahl\",\n",
    "            \"Kinder 12 bis unter 14 Jahre - Anzahl\",\n",
    "            \"Kinder bis unter 14 Jahre insgesamt (Anzahl Spalte 8 bis 12)\",\n",
    "            \"Jugendliche 14 bis unter 16 Jahre - Anzahl\",\n",
    "            \"Jugendliche 16 bis unter 18 Jahre - Anzahl\",\n",
    "            \"Jugendliche 14 bis unter 18 Jahre insgesamt (Anzahl Spalte 14 und 15)\",\n",
    "            \"Heranwachsende 18 bis unter 21 Jahre - Anzahl\",\n",
    "            \"Tatverdaechtige insgesamt unter 21 Jahre (Anzahl Spalte 13, 16 und 17)\",\n",
    "            \"Erwachsene 21 bis unter 23 Jahre - Anzahl\",\n",
    "            \"Erwachsene 23 bis unter 25 Jahre - Anzahl\",\n",
    "            \"Erwachsene 21 bis unter 25 Jahre (Anzahl Spalte 19 und 20)\",\n",
    "            \"Erwachsene 25 bis unter 30 Jahre\",\n",
    "            \"Erwachsene 30 bis unter 40 Jahre\",\n",
    "            \"Erwachsene 40 bis unter 50 Jahre\",\n",
    "            \"Erwachsene 50 bis unter 60 Jahre\",\n",
    "            \"Erwachsene 60 Jahre und aelter\",\n",
    "            \"Erwachsene ab 21 Jahre (Anzahl Spalten 21 bis 26)\"\n",
    "        ]\n",
    "    }\n",
    "}\n",
    "\n",
    "\n",
    "\n"
   ]
  },
  {
   "cell_type": "code",
   "execution_count": 12,
   "id": "0903fa25",
   "metadata": {
    "scrolled": true
   },
   "outputs": [],
   "source": [
    "with pl.StringCache():\n",
    "    dataframes_non_germans = [pl.read_csv(file,separator=\";\",encoding=result['encoding'], skip_rows=1, ignore_errors=True, has_header=False, schema=enforced_schema\n",
    "        ).with_columns(pl.col(\"Stadt/Landkreis\").cast(pl.String).replace(\"ü\", \"ue\").str.to_uppercase(),\n",
    "                      pl.col(\"Kreisart\").cast(pl.String).replace(\"KfS\", \"Kreisfreie Stadt\")) \n",
    "        for file in csv_files_crimes_non_germans]\n",
    "    \n",
    "    dataframes_germans = [pl.read_csv(file,separator=\";\",encoding=result['encoding'], skip_rows=1, ignore_errors=True, has_header=False, schema=enforced_schema\n",
    "       ).with_columns(pl.col(\"Stadt/Landkreis\").cast(pl.String).replace(\"ü\", \"ue\").str.to_uppercase(),\n",
    "                      pl.col(\"Kreisart\").cast(pl.String).replace(\"KfS\", \"Kreisfreie Stadt\")) \n",
    "        for file in csv_files_crimes_germans]\n",
    "    \n",
    "    # Concatenate inside the same context\n",
    "    combined_df_crimes_all_years_germans = pl.concat(dataframes_germans, how=\"diagonal_relaxed\")\n",
    "    combined_df_crimes_all_years_non_germans = pl.concat(dataframes_non_germans, how=\"diagonal_relaxed\")"
   ]
  },
  {
   "cell_type": "code",
   "execution_count": null,
   "id": "e15ec5a2",
   "metadata": {},
   "outputs": [],
   "source": []
  },
  {
   "cell_type": "code",
   "execution_count": null,
   "id": "393d1e46",
   "metadata": {
    "scrolled": false
   },
   "outputs": [],
   "source": [
    "# look at the columns\n",
    "dataframes_germans[0].columns"
   ]
  },
  {
   "cell_type": "code",
   "execution_count": null,
   "id": "95f1a46d",
   "metadata": {},
   "outputs": [],
   "source": [
    "# look at the data\n",
    "combined_df_crimes_all_years_germans"
   ]
  },
  {
   "cell_type": "code",
   "execution_count": 18,
   "id": "84448401",
   "metadata": {
    "scrolled": true
   },
   "outputs": [],
   "source": [
    "# add foreigner / german as signifier\n",
    "combined_df_crimes_all_years_germans=combined_df_crimes_all_years_germans.with_columns(pl.lit(\"german\").alias(\"foreign or german\"))\n",
    "combined_df_crimes_all_years_non_germans=combined_df_crimes_all_years_non_germans.with_columns(pl.lit(\"foreign\").alias(\"foreign or german\"))"
   ]
  },
  {
   "cell_type": "code",
   "execution_count": 19,
   "id": "83051718",
   "metadata": {},
   "outputs": [],
   "source": [
    "# combine both dataframes\n",
    "combined_crime_df_foreign_german = pl.concat([combined_df_crimes_all_years_germans, combined_df_crimes_all_years_non_germans], how=\"diagonal_relaxed\")"
   ]
  },
  {
   "cell_type": "code",
   "execution_count": 20,
   "id": "5ac55786",
   "metadata": {
    "scrolled": false
   },
   "outputs": [
    {
     "data": {
      "text/html": [
       "<div><style>\n",
       ".dataframe > thead > tr,\n",
       ".dataframe > tbody > tr {\n",
       "  text-align: right;\n",
       "  white-space: pre-wrap;\n",
       "}\n",
       "</style>\n",
       "<small>shape: (401_558, 28)</small><table border=\"1\" class=\"dataframe\"><thead><tr><th>Schluessel</th><th>Gemeindeschluessel</th><th>Straftat</th><th>Stadt/Landkreis</th><th>Kreisart</th><th>Sexus</th><th>Tatverdaechtige insgesamt - Anzahl</th><th>Kinder bis unter 6 Jahre - Anzahl</th><th>Kinder 6 bis unter 8 Jahre Anzahl</th><th>Kinder 8 bis unter 10 Jahre - Anzahl</th><th>Kinder 10 bis unter 12 Jahre - Anzahl</th><th>Kinder 12 bis unter 14 Jahre - Anzahl</th><th>Kinder bis unter 14 Jahre insgesamt (Anzahl Spalte 8 bis 12)</th><th>Jugendliche 14 bis unter 16 Jahre - Anzahl</th><th>Jugendliche 16 bis unter 18 Jahre - Anzahl</th><th>Jugendliche 14 bis unter 18 Jahre insgesamt (Anzahl Spalte 14 und 15)</th><th>Heranwachsende 18 bis unter 21 Jahre - Anzahl</th><th>Tatverdaechtige insgesamt unter 21 Jahre (Anzahl Spalte 13, 16 und 17)</th><th>Erwachsene 21 bis unter 23 Jahre - Anzahl</th><th>Erwachsene 23 bis unter 25 Jahre - Anzahl</th><th>Erwachsene 21 bis unter 25 Jahre (Anzahl Spalte 19 und 20)</th><th>Erwachsene 25 bis unter 30 Jahre</th><th>Erwachsene 30 bis unter 40 Jahre</th><th>Erwachsene 40 bis unter 50 Jahre</th><th>Erwachsene 50 bis unter 60 Jahre</th><th>Erwachsene 60 Jahre und aelter</th><th>Erwachsene ab 21 Jahre (Anzahl Spalten 21 bis 26)</th><th>foreign or german</th></tr><tr><td>str</td><td>str</td><td>cat</td><td>str</td><td>str</td><td>cat</td><td>i64</td><td>i64</td><td>i64</td><td>i64</td><td>i64</td><td>i64</td><td>i64</td><td>i64</td><td>i64</td><td>i64</td><td>i64</td><td>i64</td><td>i64</td><td>i64</td><td>i64</td><td>i64</td><td>i64</td><td>i64</td><td>i64</td><td>i64</td><td>i64</td><td>str</td></tr></thead><tbody><tr><td>&quot;Schluessel&quot;</td><td>&quot;Straftat&quot;</td><td>&quot;Gemeindeschluessel&quot;</td><td>&quot;STADT/LANDKREIS&quot;</td><td>&quot;Kreisart&quot;</td><td>&quot;Sexus&quot;</td><td>null</td><td>null</td><td>null</td><td>null</td><td>null</td><td>null</td><td>null</td><td>null</td><td>null</td><td>null</td><td>null</td><td>null</td><td>null</td><td>null</td><td>null</td><td>null</td><td>null</td><td>null</td><td>null</td><td>null</td><td>null</td><td>&quot;german&quot;</td></tr><tr><td>&quot;------&quot;</td><td>&quot;Straftaten insgesamt&quot;</td><td>&quot;1001&quot;</td><td>&quot;FLENSBURG&quot;</td><td>&quot;Kreisfreie Stadt&quot;</td><td>&quot;M&quot;</td><td>null</td><td>0</td><td>4</td><td>10</td><td>13</td><td>28</td><td>55</td><td>59</td><td>74</td><td>133</td><td>139</td><td>327</td><td>115</td><td>107</td><td>222</td><td>226</td><td>372</td><td>235</td><td>168</td><td>102</td><td>null</td><td>&quot;german&quot;</td></tr><tr><td>&quot;------&quot;</td><td>&quot;Straftaten insgesamt&quot;</td><td>&quot;1002&quot;</td><td>&quot;KIEL&quot;</td><td>&quot;Kreisfreie Stadt&quot;</td><td>&quot;M&quot;</td><td>null</td><td>1</td><td>12</td><td>15</td><td>29</td><td>61</td><td>118</td><td>177</td><td>184</td><td>361</td><td>331</td><td>810</td><td>279</td><td>246</td><td>525</td><td>599</td><td>844</td><td>611</td><td>516</td><td>310</td><td>null</td><td>&quot;german&quot;</td></tr><tr><td>&quot;------&quot;</td><td>&quot;Straftaten insgesamt&quot;</td><td>&quot;1003&quot;</td><td>&quot;LÜBECK&quot;</td><td>&quot;Kreisfreie Stadt&quot;</td><td>&quot;M&quot;</td><td>null</td><td>2</td><td>13</td><td>18</td><td>22</td><td>53</td><td>108</td><td>144</td><td>227</td><td>371</td><td>315</td><td>794</td><td>246</td><td>251</td><td>497</td><td>536</td><td>903</td><td>636</td><td>560</td><td>336</td><td>null</td><td>&quot;german&quot;</td></tr><tr><td>&quot;------&quot;</td><td>&quot;Straftaten insgesamt&quot;</td><td>&quot;1004&quot;</td><td>&quot;NEUMÜNSTER&quot;</td><td>&quot;Kreisfreie Stadt&quot;</td><td>&quot;M&quot;</td><td>null</td><td>1</td><td>3</td><td>6</td><td>10</td><td>32</td><td>52</td><td>64</td><td>104</td><td>168</td><td>172</td><td>392</td><td>111</td><td>103</td><td>214</td><td>262</td><td>373</td><td>267</td><td>212</td><td>162</td><td>null</td><td>&quot;german&quot;</td></tr><tr><td>&hellip;</td><td>&hellip;</td><td>&hellip;</td><td>&hellip;</td><td>&hellip;</td><td>&hellip;</td><td>&hellip;</td><td>&hellip;</td><td>&hellip;</td><td>&hellip;</td><td>&hellip;</td><td>&hellip;</td><td>&hellip;</td><td>&hellip;</td><td>&hellip;</td><td>&hellip;</td><td>&hellip;</td><td>&hellip;</td><td>&hellip;</td><td>&hellip;</td><td>&hellip;</td><td>&hellip;</td><td>&hellip;</td><td>&hellip;</td><td>&hellip;</td><td>&hellip;</td><td>&hellip;</td><td>&hellip;</td></tr><tr><td>&quot;972500&quot;</td><td>&quot;Unerlaubt eingereiste/aufhälti…</td><td>&quot;16073&quot;</td><td>&quot;SAALFELD-RUDOLSTADT&quot;</td><td>&quot;LK&quot;</td><td>&quot;X&quot;</td><td>31</td><td>0</td><td>0</td><td>0</td><td>0</td><td>1</td><td>1</td><td>2</td><td>2</td><td>4</td><td>5</td><td>10</td><td>6</td><td>1</td><td>7</td><td>4</td><td>6</td><td>4</td><td>0</td><td>0</td><td>21</td><td>&quot;foreign&quot;</td></tr><tr><td>&quot;972500&quot;</td><td>&quot;Unerlaubt eingereiste/aufhälti…</td><td>&quot;16074&quot;</td><td>&quot;SAALE-HOLZLAND-KREIS&quot;</td><td>&quot;LK&quot;</td><td>&quot;X&quot;</td><td>19</td><td>0</td><td>0</td><td>0</td><td>0</td><td>0</td><td>0</td><td>0</td><td>1</td><td>1</td><td>0</td><td>1</td><td>3</td><td>2</td><td>5</td><td>2</td><td>8</td><td>2</td><td>1</td><td>0</td><td>18</td><td>&quot;foreign&quot;</td></tr><tr><td>&quot;972500&quot;</td><td>&quot;Unerlaubt eingereiste/aufhälti…</td><td>&quot;16075&quot;</td><td>&quot;SAALE-ORLA-KREIS&quot;</td><td>&quot;LK&quot;</td><td>&quot;X&quot;</td><td>3</td><td>0</td><td>0</td><td>0</td><td>0</td><td>0</td><td>0</td><td>0</td><td>0</td><td>0</td><td>0</td><td>0</td><td>0</td><td>1</td><td>1</td><td>0</td><td>0</td><td>2</td><td>0</td><td>0</td><td>3</td><td>&quot;foreign&quot;</td></tr><tr><td>&quot;972500&quot;</td><td>&quot;Unerlaubt eingereiste/aufhälti…</td><td>&quot;16076&quot;</td><td>&quot;GREIZ&quot;</td><td>&quot;LK&quot;</td><td>&quot;X&quot;</td><td>11</td><td>0</td><td>0</td><td>0</td><td>0</td><td>0</td><td>0</td><td>0</td><td>1</td><td>1</td><td>2</td><td>3</td><td>1</td><td>0</td><td>1</td><td>5</td><td>2</td><td>0</td><td>0</td><td>0</td><td>8</td><td>&quot;foreign&quot;</td></tr><tr><td>&quot;972500&quot;</td><td>&quot;Unerlaubt eingereiste/aufhälti…</td><td>&quot;16077&quot;</td><td>&quot;ALTENBURGER LAND&quot;</td><td>&quot;LK&quot;</td><td>&quot;X&quot;</td><td>4</td><td>0</td><td>0</td><td>0</td><td>0</td><td>0</td><td>0</td><td>0</td><td>0</td><td>0</td><td>0</td><td>0</td><td>0</td><td>0</td><td>0</td><td>2</td><td>2</td><td>0</td><td>0</td><td>0</td><td>4</td><td>&quot;foreign&quot;</td></tr></tbody></table></div>"
      ],
      "text/plain": [
       "shape: (401_558, 28)\n",
       "┌─────┬─────┬─────┬─────┬─────┬─────┬─────┬─────┬─────┬─────┬─────┬─────┬─────┬─────┬─────┬─────┬─────┬─────┬─────┬─────┬─────┬─────┬─────┬─────┬─────┬─────┬─────┬─────┐\n",
       "│ Sch ┆ Gem ┆ Str ┆ Sta ┆ Kre ┆ Sex ┆ Tat ┆ Kin ┆ Kin ┆ Kin ┆ Kin ┆ Kin ┆ Kin ┆ Jug ┆ Jug ┆ Jug ┆ Her ┆ Tat ┆ Erw ┆ Erw ┆ Erw ┆ Erw ┆ Erw ┆ Erw ┆ Erw ┆ Erw ┆ Erw ┆ for │\n",
       "│ lue ┆ ein ┆ aft ┆ dt/ ┆ isa ┆ us  ┆ ver ┆ der ┆ der ┆ der ┆ der ┆ der ┆ der ┆ end ┆ end ┆ end ┆ anw ┆ ver ┆ ach ┆ ach ┆ ach ┆ ach ┆ ach ┆ ach ┆ ach ┆ ach ┆ ach ┆ eig │\n",
       "│ sse ┆ des ┆ at  ┆ Lan ┆ rt  ┆ --- ┆ dae ┆ bis ┆ 6   ┆ 8   ┆ 10  ┆ 12  ┆ bis ┆ lic ┆ lic ┆ lic ┆ ach ┆ dae ┆ sen ┆ sen ┆ sen ┆ sen ┆ sen ┆ sen ┆ sen ┆ sen ┆ sen ┆ n   │\n",
       "│ l   ┆ chl ┆ --- ┆ dkr ┆ --- ┆ cat ┆ cht ┆ unt ┆ bis ┆ bis ┆ bis ┆ bis ┆ unt ┆ he  ┆ he  ┆ he  ┆ sen ┆ cht ┆ e   ┆ e   ┆ e   ┆ e   ┆ e   ┆ e   ┆ e   ┆ e   ┆ e   ┆ or  │\n",
       "│ --- ┆ ues ┆ cat ┆ eis ┆ str ┆     ┆ ige ┆ er  ┆ unt ┆ unt ┆ unt ┆ unt ┆ er  ┆ 14  ┆ 16  ┆ 14  ┆ de  ┆ ige ┆ 21  ┆ 23  ┆ 21  ┆ 25  ┆ 30  ┆ 40  ┆ 50  ┆ 60  ┆ ab  ┆ ger │\n",
       "│ str ┆ sel ┆     ┆ --- ┆     ┆     ┆ ins ┆ 6   ┆ er  ┆ er  ┆ er  ┆ er  ┆ 14  ┆ bis ┆ bis ┆ bis ┆ 18  ┆ ins ┆ bis ┆ bis ┆ bis ┆ bis ┆ bis ┆ bis ┆ bis ┆ Jah ┆ 21  ┆ man │\n",
       "│     ┆ --- ┆     ┆ str ┆     ┆     ┆ ges ┆ Jah ┆ 8   ┆ 10  ┆ 12  ┆ 14  ┆ Jah ┆ unt ┆ unt ┆ unt ┆ bis ┆ ges ┆ unt ┆ unt ┆ unt ┆ unt ┆ unt ┆ unt ┆ unt ┆ re  ┆ Jah ┆ --- │\n",
       "│     ┆ str ┆     ┆     ┆     ┆     ┆ amt ┆ re  ┆ Jah ┆ Jah ┆ Jah ┆ Jah ┆ re  ┆ er  ┆ er  ┆ er  ┆ unt ┆ amt ┆ er  ┆ er  ┆ er  ┆ er  ┆ er  ┆ er  ┆ er  ┆ und ┆ re  ┆ str │\n",
       "│     ┆     ┆     ┆     ┆     ┆     ┆ -   ┆ -   ┆ re  ┆ re  ┆ re  ┆ re  ┆ ins ┆ 16  ┆ 18  ┆ 18  ┆ er  ┆ unt ┆ 23  ┆ 25  ┆ 25  ┆ 30  ┆ 40  ┆ 50  ┆ 60  ┆ ael ┆ (An ┆     │\n",
       "│     ┆     ┆     ┆     ┆     ┆     ┆ An… ┆ Anz ┆ Anz ┆ - … ┆ -…  ┆ -…  ┆ g…  ┆ Ja… ┆ Ja… ┆ Ja… ┆ 21… ┆ e…  ┆ Jah ┆ Jah ┆ Jah ┆ Jah ┆ Jah ┆ Jah ┆ Jah ┆ ter ┆ zah ┆     │\n",
       "│     ┆     ┆     ┆     ┆     ┆     ┆ --- ┆ …   ┆ …   ┆ --- ┆ --- ┆ --- ┆ --- ┆ --- ┆ --- ┆ --- ┆ --- ┆ --- ┆ …   ┆ …   ┆ …   ┆ …   ┆ …   ┆ …   ┆ …   ┆ --- ┆ l…  ┆     │\n",
       "│     ┆     ┆     ┆     ┆     ┆     ┆ i64 ┆ --- ┆ --- ┆ i64 ┆ i64 ┆ i64 ┆ i64 ┆ i64 ┆ i64 ┆ i64 ┆ i64 ┆ i64 ┆ --- ┆ --- ┆ --- ┆ --- ┆ --- ┆ --- ┆ --- ┆ i64 ┆ --- ┆     │\n",
       "│     ┆     ┆     ┆     ┆     ┆     ┆     ┆ i64 ┆ i64 ┆     ┆     ┆     ┆     ┆     ┆     ┆     ┆     ┆     ┆ i64 ┆ i64 ┆ i64 ┆ i64 ┆ i64 ┆ i64 ┆ i64 ┆     ┆ i64 ┆     │\n",
       "╞═════╪═════╪═════╪═════╪═════╪═════╪═════╪═════╪═════╪═════╪═════╪═════╪═════╪═════╪═════╪═════╪═════╪═════╪═════╪═════╪═════╪═════╪═════╪═════╪═════╪═════╪═════╪═════╡\n",
       "│ Sch ┆ Str ┆ Gem ┆ STA ┆ Kre ┆ Sex ┆ nul ┆ nul ┆ nul ┆ nul ┆ nul ┆ nul ┆ nul ┆ nul ┆ nul ┆ nul ┆ nul ┆ nul ┆ nul ┆ nul ┆ nul ┆ nul ┆ nul ┆ nul ┆ nul ┆ nul ┆ nul ┆ ger │\n",
       "│ lue ┆ aft ┆ ein ┆ DT/ ┆ isa ┆ us  ┆ l   ┆ l   ┆ l   ┆ l   ┆ l   ┆ l   ┆ l   ┆ l   ┆ l   ┆ l   ┆ l   ┆ l   ┆ l   ┆ l   ┆ l   ┆ l   ┆ l   ┆ l   ┆ l   ┆ l   ┆ l   ┆ man │\n",
       "│ sse ┆ at  ┆ des ┆ LAN ┆ rt  ┆     ┆     ┆     ┆     ┆     ┆     ┆     ┆     ┆     ┆     ┆     ┆     ┆     ┆     ┆     ┆     ┆     ┆     ┆     ┆     ┆     ┆     ┆     │\n",
       "│ l   ┆     ┆ chl ┆ DKR ┆     ┆     ┆     ┆     ┆     ┆     ┆     ┆     ┆     ┆     ┆     ┆     ┆     ┆     ┆     ┆     ┆     ┆     ┆     ┆     ┆     ┆     ┆     ┆     │\n",
       "│     ┆     ┆ ues ┆ EIS ┆     ┆     ┆     ┆     ┆     ┆     ┆     ┆     ┆     ┆     ┆     ┆     ┆     ┆     ┆     ┆     ┆     ┆     ┆     ┆     ┆     ┆     ┆     ┆     │\n",
       "│     ┆     ┆ sel ┆     ┆     ┆     ┆     ┆     ┆     ┆     ┆     ┆     ┆     ┆     ┆     ┆     ┆     ┆     ┆     ┆     ┆     ┆     ┆     ┆     ┆     ┆     ┆     ┆     │\n",
       "│ --- ┆ Str ┆ 100 ┆ FLE ┆ Kre ┆ M   ┆ nul ┆ 0   ┆ 4   ┆ 10  ┆ 13  ┆ 28  ┆ 55  ┆ 59  ┆ 74  ┆ 133 ┆ 139 ┆ 327 ┆ 115 ┆ 107 ┆ 222 ┆ 226 ┆ 372 ┆ 235 ┆ 168 ┆ 102 ┆ nul ┆ ger │\n",
       "│ --- ┆ aft ┆ 1   ┆ NSB ┆ isf ┆     ┆ l   ┆     ┆     ┆     ┆     ┆     ┆     ┆     ┆     ┆     ┆     ┆     ┆     ┆     ┆     ┆     ┆     ┆     ┆     ┆     ┆ l   ┆ man │\n",
       "│     ┆ ate ┆     ┆ URG ┆ rei ┆     ┆     ┆     ┆     ┆     ┆     ┆     ┆     ┆     ┆     ┆     ┆     ┆     ┆     ┆     ┆     ┆     ┆     ┆     ┆     ┆     ┆     ┆     │\n",
       "│     ┆ n   ┆     ┆     ┆ e   ┆     ┆     ┆     ┆     ┆     ┆     ┆     ┆     ┆     ┆     ┆     ┆     ┆     ┆     ┆     ┆     ┆     ┆     ┆     ┆     ┆     ┆     ┆     │\n",
       "│     ┆ ins ┆     ┆     ┆ Sta ┆     ┆     ┆     ┆     ┆     ┆     ┆     ┆     ┆     ┆     ┆     ┆     ┆     ┆     ┆     ┆     ┆     ┆     ┆     ┆     ┆     ┆     ┆     │\n",
       "│     ┆ ges ┆     ┆     ┆ dt  ┆     ┆     ┆     ┆     ┆     ┆     ┆     ┆     ┆     ┆     ┆     ┆     ┆     ┆     ┆     ┆     ┆     ┆     ┆     ┆     ┆     ┆     ┆     │\n",
       "│     ┆ amt ┆     ┆     ┆     ┆     ┆     ┆     ┆     ┆     ┆     ┆     ┆     ┆     ┆     ┆     ┆     ┆     ┆     ┆     ┆     ┆     ┆     ┆     ┆     ┆     ┆     ┆     │\n",
       "│ --- ┆ Str ┆ 100 ┆ KIE ┆ Kre ┆ M   ┆ nul ┆ 1   ┆ 12  ┆ 15  ┆ 29  ┆ 61  ┆ 118 ┆ 177 ┆ 184 ┆ 361 ┆ 331 ┆ 810 ┆ 279 ┆ 246 ┆ 525 ┆ 599 ┆ 844 ┆ 611 ┆ 516 ┆ 310 ┆ nul ┆ ger │\n",
       "│ --- ┆ aft ┆ 2   ┆ L   ┆ isf ┆     ┆ l   ┆     ┆     ┆     ┆     ┆     ┆     ┆     ┆     ┆     ┆     ┆     ┆     ┆     ┆     ┆     ┆     ┆     ┆     ┆     ┆ l   ┆ man │\n",
       "│     ┆ ate ┆     ┆     ┆ rei ┆     ┆     ┆     ┆     ┆     ┆     ┆     ┆     ┆     ┆     ┆     ┆     ┆     ┆     ┆     ┆     ┆     ┆     ┆     ┆     ┆     ┆     ┆     │\n",
       "│     ┆ n   ┆     ┆     ┆ e   ┆     ┆     ┆     ┆     ┆     ┆     ┆     ┆     ┆     ┆     ┆     ┆     ┆     ┆     ┆     ┆     ┆     ┆     ┆     ┆     ┆     ┆     ┆     │\n",
       "│     ┆ ins ┆     ┆     ┆ Sta ┆     ┆     ┆     ┆     ┆     ┆     ┆     ┆     ┆     ┆     ┆     ┆     ┆     ┆     ┆     ┆     ┆     ┆     ┆     ┆     ┆     ┆     ┆     │\n",
       "│     ┆ ges ┆     ┆     ┆ dt  ┆     ┆     ┆     ┆     ┆     ┆     ┆     ┆     ┆     ┆     ┆     ┆     ┆     ┆     ┆     ┆     ┆     ┆     ┆     ┆     ┆     ┆     ┆     │\n",
       "│     ┆ amt ┆     ┆     ┆     ┆     ┆     ┆     ┆     ┆     ┆     ┆     ┆     ┆     ┆     ┆     ┆     ┆     ┆     ┆     ┆     ┆     ┆     ┆     ┆     ┆     ┆     ┆     │\n",
       "│ --- ┆ Str ┆ 100 ┆ LÜB ┆ Kre ┆ M   ┆ nul ┆ 2   ┆ 13  ┆ 18  ┆ 22  ┆ 53  ┆ 108 ┆ 144 ┆ 227 ┆ 371 ┆ 315 ┆ 794 ┆ 246 ┆ 251 ┆ 497 ┆ 536 ┆ 903 ┆ 636 ┆ 560 ┆ 336 ┆ nul ┆ ger │\n",
       "│ --- ┆ aft ┆ 3   ┆ ECK ┆ isf ┆     ┆ l   ┆     ┆     ┆     ┆     ┆     ┆     ┆     ┆     ┆     ┆     ┆     ┆     ┆     ┆     ┆     ┆     ┆     ┆     ┆     ┆ l   ┆ man │\n",
       "│     ┆ ate ┆     ┆     ┆ rei ┆     ┆     ┆     ┆     ┆     ┆     ┆     ┆     ┆     ┆     ┆     ┆     ┆     ┆     ┆     ┆     ┆     ┆     ┆     ┆     ┆     ┆     ┆     │\n",
       "│     ┆ n   ┆     ┆     ┆ e   ┆     ┆     ┆     ┆     ┆     ┆     ┆     ┆     ┆     ┆     ┆     ┆     ┆     ┆     ┆     ┆     ┆     ┆     ┆     ┆     ┆     ┆     ┆     │\n",
       "│     ┆ ins ┆     ┆     ┆ Sta ┆     ┆     ┆     ┆     ┆     ┆     ┆     ┆     ┆     ┆     ┆     ┆     ┆     ┆     ┆     ┆     ┆     ┆     ┆     ┆     ┆     ┆     ┆     │\n",
       "│     ┆ ges ┆     ┆     ┆ dt  ┆     ┆     ┆     ┆     ┆     ┆     ┆     ┆     ┆     ┆     ┆     ┆     ┆     ┆     ┆     ┆     ┆     ┆     ┆     ┆     ┆     ┆     ┆     │\n",
       "│     ┆ amt ┆     ┆     ┆     ┆     ┆     ┆     ┆     ┆     ┆     ┆     ┆     ┆     ┆     ┆     ┆     ┆     ┆     ┆     ┆     ┆     ┆     ┆     ┆     ┆     ┆     ┆     │\n",
       "│ --- ┆ Str ┆ 100 ┆ NEU ┆ Kre ┆ M   ┆ nul ┆ 1   ┆ 3   ┆ 6   ┆ 10  ┆ 32  ┆ 52  ┆ 64  ┆ 104 ┆ 168 ┆ 172 ┆ 392 ┆ 111 ┆ 103 ┆ 214 ┆ 262 ┆ 373 ┆ 267 ┆ 212 ┆ 162 ┆ nul ┆ ger │\n",
       "│ --- ┆ aft ┆ 4   ┆ MÜN ┆ isf ┆     ┆ l   ┆     ┆     ┆     ┆     ┆     ┆     ┆     ┆     ┆     ┆     ┆     ┆     ┆     ┆     ┆     ┆     ┆     ┆     ┆     ┆ l   ┆ man │\n",
       "│     ┆ ate ┆     ┆ STE ┆ rei ┆     ┆     ┆     ┆     ┆     ┆     ┆     ┆     ┆     ┆     ┆     ┆     ┆     ┆     ┆     ┆     ┆     ┆     ┆     ┆     ┆     ┆     ┆     │\n",
       "│     ┆ n   ┆     ┆ R   ┆ e   ┆     ┆     ┆     ┆     ┆     ┆     ┆     ┆     ┆     ┆     ┆     ┆     ┆     ┆     ┆     ┆     ┆     ┆     ┆     ┆     ┆     ┆     ┆     │\n",
       "│     ┆ ins ┆     ┆     ┆ Sta ┆     ┆     ┆     ┆     ┆     ┆     ┆     ┆     ┆     ┆     ┆     ┆     ┆     ┆     ┆     ┆     ┆     ┆     ┆     ┆     ┆     ┆     ┆     │\n",
       "│     ┆ ges ┆     ┆     ┆ dt  ┆     ┆     ┆     ┆     ┆     ┆     ┆     ┆     ┆     ┆     ┆     ┆     ┆     ┆     ┆     ┆     ┆     ┆     ┆     ┆     ┆     ┆     ┆     │\n",
       "│     ┆ amt ┆     ┆     ┆     ┆     ┆     ┆     ┆     ┆     ┆     ┆     ┆     ┆     ┆     ┆     ┆     ┆     ┆     ┆     ┆     ┆     ┆     ┆     ┆     ┆     ┆     ┆     │\n",
       "│ …   ┆ …   ┆ …   ┆ …   ┆ …   ┆ …   ┆ …   ┆ …   ┆ …   ┆ …   ┆ …   ┆ …   ┆ …   ┆ …   ┆ …   ┆ …   ┆ …   ┆ …   ┆ …   ┆ …   ┆ …   ┆ …   ┆ …   ┆ …   ┆ …   ┆ …   ┆ …   ┆ …   │\n",
       "│ 972 ┆ Une ┆ 160 ┆ SAA ┆ LK  ┆ X   ┆ 31  ┆ 0   ┆ 0   ┆ 0   ┆ 0   ┆ 1   ┆ 1   ┆ 2   ┆ 2   ┆ 4   ┆ 5   ┆ 10  ┆ 6   ┆ 1   ┆ 7   ┆ 4   ┆ 6   ┆ 4   ┆ 0   ┆ 0   ┆ 21  ┆ for │\n",
       "│ 500 ┆ rla ┆ 73  ┆ LFE ┆     ┆     ┆     ┆     ┆     ┆     ┆     ┆     ┆     ┆     ┆     ┆     ┆     ┆     ┆     ┆     ┆     ┆     ┆     ┆     ┆     ┆     ┆     ┆ eig │\n",
       "│     ┆ ubt ┆     ┆ LD- ┆     ┆     ┆     ┆     ┆     ┆     ┆     ┆     ┆     ┆     ┆     ┆     ┆     ┆     ┆     ┆     ┆     ┆     ┆     ┆     ┆     ┆     ┆     ┆ n   │\n",
       "│     ┆ ein ┆     ┆ RUD ┆     ┆     ┆     ┆     ┆     ┆     ┆     ┆     ┆     ┆     ┆     ┆     ┆     ┆     ┆     ┆     ┆     ┆     ┆     ┆     ┆     ┆     ┆     ┆     │\n",
       "│     ┆ ger ┆     ┆ OLS ┆     ┆     ┆     ┆     ┆     ┆     ┆     ┆     ┆     ┆     ┆     ┆     ┆     ┆     ┆     ┆     ┆     ┆     ┆     ┆     ┆     ┆     ┆     ┆     │\n",
       "│     ┆ eis ┆     ┆ TAD ┆     ┆     ┆     ┆     ┆     ┆     ┆     ┆     ┆     ┆     ┆     ┆     ┆     ┆     ┆     ┆     ┆     ┆     ┆     ┆     ┆     ┆     ┆     ┆     │\n",
       "│     ┆ te/ ┆     ┆ T   ┆     ┆     ┆     ┆     ┆     ┆     ┆     ┆     ┆     ┆     ┆     ┆     ┆     ┆     ┆     ┆     ┆     ┆     ┆     ┆     ┆     ┆     ┆     ┆     │\n",
       "│     ┆ auf ┆     ┆     ┆     ┆     ┆     ┆     ┆     ┆     ┆     ┆     ┆     ┆     ┆     ┆     ┆     ┆     ┆     ┆     ┆     ┆     ┆     ┆     ┆     ┆     ┆     ┆     │\n",
       "│     ┆ häl ┆     ┆     ┆     ┆     ┆     ┆     ┆     ┆     ┆     ┆     ┆     ┆     ┆     ┆     ┆     ┆     ┆     ┆     ┆     ┆     ┆     ┆     ┆     ┆     ┆     ┆     │\n",
       "│     ┆ ti… ┆     ┆     ┆     ┆     ┆     ┆     ┆     ┆     ┆     ┆     ┆     ┆     ┆     ┆     ┆     ┆     ┆     ┆     ┆     ┆     ┆     ┆     ┆     ┆     ┆     ┆     │\n",
       "│ 972 ┆ Une ┆ 160 ┆ SAA ┆ LK  ┆ X   ┆ 19  ┆ 0   ┆ 0   ┆ 0   ┆ 0   ┆ 0   ┆ 0   ┆ 0   ┆ 1   ┆ 1   ┆ 0   ┆ 1   ┆ 3   ┆ 2   ┆ 5   ┆ 2   ┆ 8   ┆ 2   ┆ 1   ┆ 0   ┆ 18  ┆ for │\n",
       "│ 500 ┆ rla ┆ 74  ┆ LE- ┆     ┆     ┆     ┆     ┆     ┆     ┆     ┆     ┆     ┆     ┆     ┆     ┆     ┆     ┆     ┆     ┆     ┆     ┆     ┆     ┆     ┆     ┆     ┆ eig │\n",
       "│     ┆ ubt ┆     ┆ HOL ┆     ┆     ┆     ┆     ┆     ┆     ┆     ┆     ┆     ┆     ┆     ┆     ┆     ┆     ┆     ┆     ┆     ┆     ┆     ┆     ┆     ┆     ┆     ┆ n   │\n",
       "│     ┆ ein ┆     ┆ ZLA ┆     ┆     ┆     ┆     ┆     ┆     ┆     ┆     ┆     ┆     ┆     ┆     ┆     ┆     ┆     ┆     ┆     ┆     ┆     ┆     ┆     ┆     ┆     ┆     │\n",
       "│     ┆ ger ┆     ┆ ND- ┆     ┆     ┆     ┆     ┆     ┆     ┆     ┆     ┆     ┆     ┆     ┆     ┆     ┆     ┆     ┆     ┆     ┆     ┆     ┆     ┆     ┆     ┆     ┆     │\n",
       "│     ┆ eis ┆     ┆ KRE ┆     ┆     ┆     ┆     ┆     ┆     ┆     ┆     ┆     ┆     ┆     ┆     ┆     ┆     ┆     ┆     ┆     ┆     ┆     ┆     ┆     ┆     ┆     ┆     │\n",
       "│     ┆ te/ ┆     ┆ IS  ┆     ┆     ┆     ┆     ┆     ┆     ┆     ┆     ┆     ┆     ┆     ┆     ┆     ┆     ┆     ┆     ┆     ┆     ┆     ┆     ┆     ┆     ┆     ┆     │\n",
       "│     ┆ auf ┆     ┆     ┆     ┆     ┆     ┆     ┆     ┆     ┆     ┆     ┆     ┆     ┆     ┆     ┆     ┆     ┆     ┆     ┆     ┆     ┆     ┆     ┆     ┆     ┆     ┆     │\n",
       "│     ┆ häl ┆     ┆     ┆     ┆     ┆     ┆     ┆     ┆     ┆     ┆     ┆     ┆     ┆     ┆     ┆     ┆     ┆     ┆     ┆     ┆     ┆     ┆     ┆     ┆     ┆     ┆     │\n",
       "│     ┆ ti… ┆     ┆     ┆     ┆     ┆     ┆     ┆     ┆     ┆     ┆     ┆     ┆     ┆     ┆     ┆     ┆     ┆     ┆     ┆     ┆     ┆     ┆     ┆     ┆     ┆     ┆     │\n",
       "│ 972 ┆ Une ┆ 160 ┆ SAA ┆ LK  ┆ X   ┆ 3   ┆ 0   ┆ 0   ┆ 0   ┆ 0   ┆ 0   ┆ 0   ┆ 0   ┆ 0   ┆ 0   ┆ 0   ┆ 0   ┆ 0   ┆ 1   ┆ 1   ┆ 0   ┆ 0   ┆ 2   ┆ 0   ┆ 0   ┆ 3   ┆ for │\n",
       "│ 500 ┆ rla ┆ 75  ┆ LE- ┆     ┆     ┆     ┆     ┆     ┆     ┆     ┆     ┆     ┆     ┆     ┆     ┆     ┆     ┆     ┆     ┆     ┆     ┆     ┆     ┆     ┆     ┆     ┆ eig │\n",
       "│     ┆ ubt ┆     ┆ ORL ┆     ┆     ┆     ┆     ┆     ┆     ┆     ┆     ┆     ┆     ┆     ┆     ┆     ┆     ┆     ┆     ┆     ┆     ┆     ┆     ┆     ┆     ┆     ┆ n   │\n",
       "│     ┆ ein ┆     ┆ A-K ┆     ┆     ┆     ┆     ┆     ┆     ┆     ┆     ┆     ┆     ┆     ┆     ┆     ┆     ┆     ┆     ┆     ┆     ┆     ┆     ┆     ┆     ┆     ┆     │\n",
       "│     ┆ ger ┆     ┆ REI ┆     ┆     ┆     ┆     ┆     ┆     ┆     ┆     ┆     ┆     ┆     ┆     ┆     ┆     ┆     ┆     ┆     ┆     ┆     ┆     ┆     ┆     ┆     ┆     │\n",
       "│     ┆ eis ┆     ┆ S   ┆     ┆     ┆     ┆     ┆     ┆     ┆     ┆     ┆     ┆     ┆     ┆     ┆     ┆     ┆     ┆     ┆     ┆     ┆     ┆     ┆     ┆     ┆     ┆     │\n",
       "│     ┆ te/ ┆     ┆     ┆     ┆     ┆     ┆     ┆     ┆     ┆     ┆     ┆     ┆     ┆     ┆     ┆     ┆     ┆     ┆     ┆     ┆     ┆     ┆     ┆     ┆     ┆     ┆     │\n",
       "│     ┆ auf ┆     ┆     ┆     ┆     ┆     ┆     ┆     ┆     ┆     ┆     ┆     ┆     ┆     ┆     ┆     ┆     ┆     ┆     ┆     ┆     ┆     ┆     ┆     ┆     ┆     ┆     │\n",
       "│     ┆ häl ┆     ┆     ┆     ┆     ┆     ┆     ┆     ┆     ┆     ┆     ┆     ┆     ┆     ┆     ┆     ┆     ┆     ┆     ┆     ┆     ┆     ┆     ┆     ┆     ┆     ┆     │\n",
       "│     ┆ ti… ┆     ┆     ┆     ┆     ┆     ┆     ┆     ┆     ┆     ┆     ┆     ┆     ┆     ┆     ┆     ┆     ┆     ┆     ┆     ┆     ┆     ┆     ┆     ┆     ┆     ┆     │\n",
       "│ 972 ┆ Une ┆ 160 ┆ GRE ┆ LK  ┆ X   ┆ 11  ┆ 0   ┆ 0   ┆ 0   ┆ 0   ┆ 0   ┆ 0   ┆ 0   ┆ 1   ┆ 1   ┆ 2   ┆ 3   ┆ 1   ┆ 0   ┆ 1   ┆ 5   ┆ 2   ┆ 0   ┆ 0   ┆ 0   ┆ 8   ┆ for │\n",
       "│ 500 ┆ rla ┆ 76  ┆ IZ  ┆     ┆     ┆     ┆     ┆     ┆     ┆     ┆     ┆     ┆     ┆     ┆     ┆     ┆     ┆     ┆     ┆     ┆     ┆     ┆     ┆     ┆     ┆     ┆ eig │\n",
       "│     ┆ ubt ┆     ┆     ┆     ┆     ┆     ┆     ┆     ┆     ┆     ┆     ┆     ┆     ┆     ┆     ┆     ┆     ┆     ┆     ┆     ┆     ┆     ┆     ┆     ┆     ┆     ┆ n   │\n",
       "│     ┆ ein ┆     ┆     ┆     ┆     ┆     ┆     ┆     ┆     ┆     ┆     ┆     ┆     ┆     ┆     ┆     ┆     ┆     ┆     ┆     ┆     ┆     ┆     ┆     ┆     ┆     ┆     │\n",
       "│     ┆ ger ┆     ┆     ┆     ┆     ┆     ┆     ┆     ┆     ┆     ┆     ┆     ┆     ┆     ┆     ┆     ┆     ┆     ┆     ┆     ┆     ┆     ┆     ┆     ┆     ┆     ┆     │\n",
       "│     ┆ eis ┆     ┆     ┆     ┆     ┆     ┆     ┆     ┆     ┆     ┆     ┆     ┆     ┆     ┆     ┆     ┆     ┆     ┆     ┆     ┆     ┆     ┆     ┆     ┆     ┆     ┆     │\n",
       "│     ┆ te/ ┆     ┆     ┆     ┆     ┆     ┆     ┆     ┆     ┆     ┆     ┆     ┆     ┆     ┆     ┆     ┆     ┆     ┆     ┆     ┆     ┆     ┆     ┆     ┆     ┆     ┆     │\n",
       "│     ┆ auf ┆     ┆     ┆     ┆     ┆     ┆     ┆     ┆     ┆     ┆     ┆     ┆     ┆     ┆     ┆     ┆     ┆     ┆     ┆     ┆     ┆     ┆     ┆     ┆     ┆     ┆     │\n",
       "│     ┆ häl ┆     ┆     ┆     ┆     ┆     ┆     ┆     ┆     ┆     ┆     ┆     ┆     ┆     ┆     ┆     ┆     ┆     ┆     ┆     ┆     ┆     ┆     ┆     ┆     ┆     ┆     │\n",
       "│     ┆ ti… ┆     ┆     ┆     ┆     ┆     ┆     ┆     ┆     ┆     ┆     ┆     ┆     ┆     ┆     ┆     ┆     ┆     ┆     ┆     ┆     ┆     ┆     ┆     ┆     ┆     ┆     │\n",
       "│ 972 ┆ Une ┆ 160 ┆ ALT ┆ LK  ┆ X   ┆ 4   ┆ 0   ┆ 0   ┆ 0   ┆ 0   ┆ 0   ┆ 0   ┆ 0   ┆ 0   ┆ 0   ┆ 0   ┆ 0   ┆ 0   ┆ 0   ┆ 0   ┆ 2   ┆ 2   ┆ 0   ┆ 0   ┆ 0   ┆ 4   ┆ for │\n",
       "│ 500 ┆ rla ┆ 77  ┆ ENB ┆     ┆     ┆     ┆     ┆     ┆     ┆     ┆     ┆     ┆     ┆     ┆     ┆     ┆     ┆     ┆     ┆     ┆     ┆     ┆     ┆     ┆     ┆     ┆ eig │\n",
       "│     ┆ ubt ┆     ┆ URG ┆     ┆     ┆     ┆     ┆     ┆     ┆     ┆     ┆     ┆     ┆     ┆     ┆     ┆     ┆     ┆     ┆     ┆     ┆     ┆     ┆     ┆     ┆     ┆ n   │\n",
       "│     ┆ ein ┆     ┆ ER  ┆     ┆     ┆     ┆     ┆     ┆     ┆     ┆     ┆     ┆     ┆     ┆     ┆     ┆     ┆     ┆     ┆     ┆     ┆     ┆     ┆     ┆     ┆     ┆     │\n",
       "│     ┆ ger ┆     ┆ LAN ┆     ┆     ┆     ┆     ┆     ┆     ┆     ┆     ┆     ┆     ┆     ┆     ┆     ┆     ┆     ┆     ┆     ┆     ┆     ┆     ┆     ┆     ┆     ┆     │\n",
       "│     ┆ eis ┆     ┆ D   ┆     ┆     ┆     ┆     ┆     ┆     ┆     ┆     ┆     ┆     ┆     ┆     ┆     ┆     ┆     ┆     ┆     ┆     ┆     ┆     ┆     ┆     ┆     ┆     │\n",
       "│     ┆ te/ ┆     ┆     ┆     ┆     ┆     ┆     ┆     ┆     ┆     ┆     ┆     ┆     ┆     ┆     ┆     ┆     ┆     ┆     ┆     ┆     ┆     ┆     ┆     ┆     ┆     ┆     │\n",
       "│     ┆ auf ┆     ┆     ┆     ┆     ┆     ┆     ┆     ┆     ┆     ┆     ┆     ┆     ┆     ┆     ┆     ┆     ┆     ┆     ┆     ┆     ┆     ┆     ┆     ┆     ┆     ┆     │\n",
       "│     ┆ häl ┆     ┆     ┆     ┆     ┆     ┆     ┆     ┆     ┆     ┆     ┆     ┆     ┆     ┆     ┆     ┆     ┆     ┆     ┆     ┆     ┆     ┆     ┆     ┆     ┆     ┆     │\n",
       "│     ┆ ti… ┆     ┆     ┆     ┆     ┆     ┆     ┆     ┆     ┆     ┆     ┆     ┆     ┆     ┆     ┆     ┆     ┆     ┆     ┆     ┆     ┆     ┆     ┆     ┆     ┆     ┆     │\n",
       "└─────┴─────┴─────┴─────┴─────┴─────┴─────┴─────┴─────┴─────┴─────┴─────┴─────┴─────┴─────┴─────┴─────┴─────┴─────┴─────┴─────┴─────┴─────┴─────┴─────┴─────┴─────┴─────┘"
      ]
     },
     "execution_count": 20,
     "metadata": {},
     "output_type": "execute_result"
    }
   ],
   "source": [
    "combined_crime_df_foreign_german"
   ]
  },
  {
   "cell_type": "code",
   "execution_count": null,
   "id": "1d8853fe",
   "metadata": {},
   "outputs": [],
   "source": []
  },
  {
   "cell_type": "code",
   "execution_count": null,
   "id": "981f0620",
   "metadata": {
    "scrolled": true
   },
   "outputs": [],
   "source": []
  }
 ],
 "metadata": {
  "kernelspec": {
   "display_name": "Python 3 (ipykernel)",
   "language": "python",
   "name": "python3"
  },
  "language_info": {
   "codemirror_mode": {
    "name": "ipython",
    "version": 3
   },
   "file_extension": ".py",
   "mimetype": "text/x-python",
   "name": "python",
   "nbconvert_exporter": "python",
   "pygments_lexer": "ipython3",
   "version": "3.9.7"
  }
 },
 "nbformat": 4,
 "nbformat_minor": 5
}
