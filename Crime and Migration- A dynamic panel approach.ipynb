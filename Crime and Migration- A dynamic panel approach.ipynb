{
 "cells": [
  {
   "cell_type": "code",
   "execution_count": 1,
   "id": "cbc4d107",
   "metadata": {
    "scrolled": true
   },
   "outputs": [
    {
     "name": "stdout",
     "output_type": "stream",
     "text": [
      "Collecting polars\n",
      "  Downloading polars-1.23.0-cp39-abi3-win_amd64.whl (34.5 MB)\n",
      "Installing collected packages: polars\n",
      "Successfully installed polars-1.23.0\n"
     ]
    }
   ],
   "source": [
    "!pip install polars\n"
   ]
  },
  {
   "cell_type": "code",
   "execution_count": 1,
   "id": "d34982ab",
   "metadata": {
    "scrolled": true
   },
   "outputs": [],
   "source": [
    "import polars as pl\n",
    "import glob\n",
    "import pandas as pd"
   ]
  },
  {
   "cell_type": "code",
   "execution_count": 5,
   "id": "b8797d6d",
   "metadata": {},
   "outputs": [
    {
     "data": {
      "text/plain": [
       "polars.config.Config"
      ]
     },
     "execution_count": 5,
     "metadata": {},
     "output_type": "execute_result"
    }
   ],
   "source": [
    "# polars settings\n",
    "#show 50 columns by default\n",
    "pl.Config().set_tbl_cols(50)"
   ]
  },
  {
   "cell_type": "code",
   "execution_count": null,
   "id": "11f1b742",
   "metadata": {},
   "outputs": [],
   "source": [
    "# change display of result container here:\n",
    "from IPython.display import display, HTML\n",
    "\n",
    "display(HTML(data=\"\"\"\n",
    "<style>\n",
    "    div#notebook-container    { width: 150%; }\n",
    "    div#menubar-container     { width: 65%; }\n",
    "    div#maintoolbar-container { width: 99%; }\n",
    "</style>\n",
    "\"\"\"))"
   ]
  },
  {
   "cell_type": "code",
   "execution_count": 2,
   "id": "1cd540f0",
   "metadata": {
    "scrolled": true
   },
   "outputs": [],
   "source": [
    "# get all the filenames\n",
    "csv_files_non_germans = glob.glob(r\"C:\\Users\\Me\\migration and crime data\\crime\\*nichtdeutsch*.csv\")\n",
    "csv_files_germans = [x for x in glob.glob(r\"C:\\Users\\Me\\migration and crime data\\crime\\*deutsch*.csv\") if x not in csv_files_non_germans]"
   ]
  },
  {
   "cell_type": "code",
   "execution_count": 3,
   "id": "6767d203",
   "metadata": {
    "scrolled": true
   },
   "outputs": [
    {
     "data": {
      "text/plain": [
       "['C:\\\\Users\\\\Me\\\\migration and crime data\\\\crime\\\\PKS2018-BKA-LKS-TV-09-T40-Kreise-TV-deutsch_csv.csv',\n",
       " 'C:\\\\Users\\\\Me\\\\migration and crime data\\\\crime\\\\PKS2019-KR-TV-03-T40-Kreise-TV-deutsch_csv.csv',\n",
       " 'C:\\\\Users\\\\Me\\\\migration and crime data\\\\crime\\\\PKS2021-KR-TV-03-T40-Kreise-TV-deutsch_csv.csv',\n",
       " 'C:\\\\Users\\\\Me\\\\migration and crime data\\\\crime\\\\PKS2023-KR-TV-03-T40-Kreise-TV-deutsch_csv.csv']"
      ]
     },
     "execution_count": 3,
     "metadata": {},
     "output_type": "execute_result"
    }
   ],
   "source": [
    "# check if the german list is missing files\n",
    "csv_files_germans"
   ]
  },
  {
   "cell_type": "code",
   "execution_count": 4,
   "id": "665ac690",
   "metadata": {},
   "outputs": [
    {
     "data": {
      "text/plain": [
       "['C:\\\\Users\\\\Me\\\\migration and crime data\\\\crime\\\\PKS2018-BKA-LKS-TV-11-T50-Kreise-TV-nichtdeutsch_csv.csv',\n",
       " 'C:\\\\Users\\\\Me\\\\migration and crime data\\\\crime\\\\PKS2019-KR-TV-05-T50-Kreise-TV-nichtdeutsch_csv.csv',\n",
       " 'C:\\\\Users\\\\Me\\\\migration and crime data\\\\crime\\\\PKS2021-KR-TV-05-T50-Kreise-TV-nichtdeutsch_csv.csv',\n",
       " 'C:\\\\Users\\\\Me\\\\migration and crime data\\\\crime\\\\PKS203-KR-TV-05-T50-Kreise-TV-nichtdeutsch_csv.csv']"
      ]
     },
     "execution_count": 4,
     "metadata": {},
     "output_type": "execute_result"
    }
   ],
   "source": [
    "# check if the non german list is missing files\n",
    "csv_files_non_germans"
   ]
  },
  {
   "cell_type": "code",
   "execution_count": 4,
   "id": "93d69fe1",
   "metadata": {
    "scrolled": true
   },
   "outputs": [],
   "source": [
    "# detect encoding\n",
    "import chardet\n",
    "with open('C:\\\\Users\\\\Me\\\\migration and crime data\\\\crime\\\\PKS2018-BKA-LKS-TV-09-T40-Kreise-TV-deutsch_csv.csv', 'rb') as f:\n",
    "    result = chardet.detect(f.read())"
   ]
  },
  {
   "cell_type": "code",
   "execution_count": 5,
   "id": "925df4bc",
   "metadata": {
    "scrolled": true
   },
   "outputs": [
    {
     "name": "stdout",
     "output_type": "stream",
     "text": [
      "Line 1: 1;2;3;4;5;6;7;8;9;10;11;12;13;14;15;16;17;18;19;20;21;22;23;24;25;26;27\n",
      "Line 2: Schluessel;Straftat;Gemeindeschluessel;Stadt/Landkreis;Kreisart;Sexus;Tatverdaechtige deutsch insgesamt - Anzahl;Kinder bis unter 6 Jahre - Anzahl;Kinder 6 bis unter 8 Jahre Anzahl;Kinder 8 bis unter 10 Jahre - Anzahl;Kinder 10 bis unter 12 Jahre - Anzahl;Kinder 12 bis unter 14 Jahre - Anzahl;Kinder bis unter 14 Jahre insgesamt (Anzahl Spalte 8 bis 12);Jugendliche 14 bis unter 16 Jahre - Anzahl;Jugendliche 16 bis unter 18 Jahre - Anzahl;Jugendliche 14 bis unter 18 Jahre insgesamt (Anzahl Spalte 14 und 15);Heranwachsende 18 bis unter 21 Jahre - Anzahl;Tatverdaechtige insgesamt unter 21 Jahre (Anzahl Spalte 13, 16 und 17);Erwachsene 21 bis unter 23 Jahre - Anzahl;Erwachsene 23 bis unter 25 Jahre - Anzahl;Erwachsene 21 bis unter 25 Jahre (Anzahl Spalte 19 und 20);Erwachsene 25 bis unter 30 Jahre;Erwachsene 30 bis unter 40 Jahre;Erwachsene 40 bis unter 50 Jahre;Erwachsene 50 bis unter 60 Jahre;Erwachsene 60 Jahre und aelter;Erwachsene ab 21 Jahre (Anzahl Spalten 21 bis 26)\n",
      "Line 3: ------;Straftaten insgesamt;1001;Flensburg;KfS;M;1,652;0;4;10;13;28;55;59;74;133;139;327;115;107;222;226;372;235;168;102;1,325\n",
      "Line 4: ------;Straftaten insgesamt;1002;Kiel;KfS;M;4,215;1;12;15;29;61;118;177;184;361;331;810;279;246;525;599;844;611;516;310;3,405\n",
      "Line 5: ------;Straftaten insgesamt;1003;Lübeck;KfS;M;4,262;2;13;18;22;53;108;144;227;371;315;794;246;251;497;536;903;636;560;336;3,468\n"
     ]
    }
   ],
   "source": [
    "# check file content (first 5 lines)\n",
    "with open('C:\\\\Users\\\\Me\\\\migration and crime data\\\\crime\\\\PKS2018-BKA-LKS-TV-09-T40-Kreise-TV-deutsch_csv.csv', \"r\", encoding=result['encoding']) as f:\n",
    "    lines = f.readlines()[:5]  # Get first 5 lines\n",
    "    for i, line in enumerate(lines, 1):\n",
    "         print(f\"Line {i}: {line.strip()}\")"
   ]
  },
  {
   "cell_type": "code",
   "execution_count": null,
   "id": "79307c68",
   "metadata": {},
   "outputs": [],
   "source": []
  },
  {
   "cell_type": "code",
   "execution_count": 23,
   "id": "f798d731",
   "metadata": {},
   "outputs": [],
   "source": [
    "# when reading the data define a schema\n",
    "enforced_schema = {\n",
    "    # Identifier columns\n",
    "    \"Schluessel\": pl.String,\n",
    "    \"Gemeindeschluessel\": pl.String,\n",
    "    \n",
    "    # Categorical columns\n",
    "    \"Straftat\": pl.Categorical,\n",
    "    \"Stadt/Landkreis\": pl.Categorical,\n",
    "    \"Kreisart\": pl.Categorical,\n",
    "    \"Sexus\": pl.Categorical,\n",
    "    \n",
    "    # Numeric columns with German formatting (1.204 -> 1204)\n",
    "    **{\n",
    "        col: pl.Int64\n",
    "        for col in [\n",
    "            \"Tatverdaechtige insgesamt - Anzahl\",\n",
    "            \"Kinder bis unter 6 Jahre - Anzahl\",\n",
    "            \"Kinder 6 bis unter 8 Jahre Anzahl\",\n",
    "            \"Kinder 8 bis unter 10 Jahre - Anzahl\",\n",
    "            \"Kinder 10 bis unter 12 Jahre - Anzahl\",\n",
    "            \"Kinder 12 bis unter 14 Jahre - Anzahl\",\n",
    "            \"Kinder bis unter 14 Jahre insgesamt (Anzahl Spalte 8 bis 12)\",\n",
    "            \"Jugendliche 14 bis unter 16 Jahre - Anzahl\",\n",
    "            \"Jugendliche 16 bis unter 18 Jahre - Anzahl\",\n",
    "            \"Jugendliche 14 bis unter 18 Jahre insgesamt (Anzahl Spalte 14 und 15)\",\n",
    "            \"Heranwachsende 18 bis unter 21 Jahre - Anzahl\",\n",
    "            \"Tatverdaechtige insgesamt unter 21 Jahre (Anzahl Spalte 13, 16 und 17)\",\n",
    "            \"Erwachsene 21 bis unter 23 Jahre - Anzahl\",\n",
    "            \"Erwachsene 23 bis unter 25 Jahre - Anzahl\",\n",
    "            \"Erwachsene 21 bis unter 25 Jahre (Anzahl Spalte 19 und 20)\",\n",
    "            \"Erwachsene 25 bis unter 30 Jahre\",\n",
    "            \"Erwachsene 30 bis unter 40 Jahre\",\n",
    "            \"Erwachsene 40 bis unter 50 Jahre\",\n",
    "            \"Erwachsene 50 bis unter 60 Jahre\",\n",
    "            \"Erwachsene 60 Jahre und aelter\",\n",
    "            \"Erwachsene ab 21 Jahre (Anzahl Spalten 21 bis 26)\"\n",
    "        ]\n",
    "    }\n",
    "}\n",
    "\n",
    "\n",
    "\n"
   ]
  },
  {
   "cell_type": "code",
   "execution_count": 27,
   "id": "0903fa25",
   "metadata": {
    "scrolled": true
   },
   "outputs": [],
   "source": [
    "# read the data into polars data frames: use the encoding found above, skip the first row (only numbers), apply schema defined above and replace umlaute from column name\n",
    "dataframes_non_germans = [pl.read_csv(file, encoding = result['encoding'], skip_rows=1,ignore_errors=True, has_header=False,schema=enforced_schema,\n",
    "   ).with_columns(pl.col(\"Stadt/Landkreis\").cast(pl.String).replace(\"ü\", \"ue\").str.to_uppercase(),pl.col(\"Kreisart\").cast(pl.String).replace(\"KfS\", \"Kreisfreie Stadt\")) for file in csv_files_non_germans]\n",
    "# now for the german data set\n",
    "dataframes_germans = [pl.read_csv(file, encoding = result['encoding'], skip_rows=1,ignore_errors=True, has_header=False,schema=enforced_schema,\n",
    "    ).with_columns(pl.col(\"Stadt/Landkreis\").cast(pl.String).replace(\"ü\", \"ue\").str.to_uppercase(),pl.col(\"Kreisart\").cast(pl.String).replace(\"KfS\", \"Kreisfreie Stadt\")) for file in csv_files_non_germans]"
   ]
  },
  {
   "cell_type": "code",
   "execution_count": 15,
   "id": "393d1e46",
   "metadata": {
    "scrolled": false
   },
   "outputs": [
    {
     "data": {
      "text/html": [
       "\n",
       "<style>\n",
       "    div#notebook-container    { width: 150%; }\n",
       "    div#menubar-container     { width: 65%; }\n",
       "    div#maintoolbar-container { width: 99%; }\n",
       "</style>\n"
      ],
      "text/plain": [
       "<IPython.core.display.HTML object>"
      ]
     },
     "metadata": {},
     "output_type": "display_data"
    },
    {
     "data": {
      "text/plain": [
       "['Schluessel',\n",
       " 'Straftat',\n",
       " 'Gemeindeschluessel',\n",
       " 'Stadt/Landkreis',\n",
       " 'Kreisart',\n",
       " 'Sexus',\n",
       " 'Tatverdaechtige deutsch insgesamt - Anzahl',\n",
       " 'Kinder bis unter 6 Jahre - Anzahl',\n",
       " 'Kinder 6 bis unter 8 Jahre Anzahl',\n",
       " 'Kinder 8 bis unter 10 Jahre - Anzahl',\n",
       " 'Kinder 10 bis unter 12 Jahre - Anzahl',\n",
       " 'Kinder 12 bis unter 14 Jahre - Anzahl',\n",
       " 'Kinder bis unter 14 Jahre insgesamt (Anzahl Spalte 8 bis 12)',\n",
       " 'Jugendliche 14 bis unter 16 Jahre - Anzahl',\n",
       " 'Jugendliche 16 bis unter 18 Jahre - Anzahl',\n",
       " 'Jugendliche 14 bis unter 18 Jahre insgesamt (Anzahl Spalte 14 und 15)',\n",
       " 'Heranwachsende 18 bis unter 21 Jahre - Anzahl',\n",
       " 'Tatverdaechtige insgesamt unter 21 Jahre (Anzahl Spalte 13, 16 und 17)',\n",
       " 'Erwachsene 21 bis unter 23 Jahre - Anzahl',\n",
       " 'Erwachsene 23 bis unter 25 Jahre - Anzahl',\n",
       " 'Erwachsene 21 bis unter 25 Jahre (Anzahl Spalte 19 und 20)',\n",
       " 'Erwachsene 25 bis unter 30 Jahre',\n",
       " 'Erwachsene 30 bis unter 40 Jahre',\n",
       " 'Erwachsene 40 bis unter 50 Jahre',\n",
       " 'Erwachsene 50 bis unter 60 Jahre',\n",
       " 'Erwachsene 60 Jahre und aelter',\n",
       " 'Erwachsene ab 21 Jahre (Anzahl Spalten 21 bis 26)']"
      ]
     },
     "execution_count": 15,
     "metadata": {},
     "output_type": "execute_result"
    }
   ],
   "source": [
    "# look at the columns\n",
    "dataframes_germans[0].columns"
   ]
  },
  {
   "cell_type": "code",
   "execution_count": null,
   "id": "95f1a46d",
   "metadata": {},
   "outputs": [],
   "source": []
  },
  {
   "cell_type": "code",
   "execution_count": 16,
   "id": "5ac55786",
   "metadata": {
    "scrolled": true
   },
   "outputs": [],
   "source": [
    "# combine all the data frames into one data frame. \n",
    "# One column changes name(Tatverdaechtige insgesamt - Anzahl) this is why diagonally-relaxed is chosen\n",
    "combined_df_all_years_germans = pl.concat(dataframes_germans, how=\"diagonal_relaxed\")"
   ]
  },
  {
   "cell_type": "code",
   "execution_count": 18,
   "id": "981f0620",
   "metadata": {
    "scrolled": true
   },
   "outputs": [
    {
     "data": {
      "text/html": [
       "<div><style>\n",
       ".dataframe > thead > tr,\n",
       ".dataframe > tbody > tr {\n",
       "  text-align: right;\n",
       "  white-space: pre-wrap;\n",
       "}\n",
       "</style>\n",
       "<small>shape: (200_775, 28)</small><table border=\"1\" class=\"dataframe\"><thead><tr><th>Schluessel</th><th>Straftat</th><th>Gemeindeschluessel</th><th>Stadt/Landkreis</th><th>Kreisart</th><th>Sexus</th><th>Tatverdaechtige deutsch insgesamt - Anzahl</th><th>Kinder bis unter 6 Jahre - Anzahl</th><th>Kinder 6 bis unter 8 Jahre Anzahl</th><th>Kinder 8 bis unter 10 Jahre - Anzahl</th><th>Kinder 10 bis unter 12 Jahre - Anzahl</th><th>Kinder 12 bis unter 14 Jahre - Anzahl</th><th>Kinder bis unter 14 Jahre insgesamt (Anzahl Spalte 8 bis 12)</th><th>Jugendliche 14 bis unter 16 Jahre - Anzahl</th><th>Jugendliche 16 bis unter 18 Jahre - Anzahl</th><th>Jugendliche 14 bis unter 18 Jahre insgesamt (Anzahl Spalte 14 und 15)</th><th>Heranwachsende 18 bis unter 21 Jahre - Anzahl</th><th>Tatverdaechtige insgesamt unter 21 Jahre (Anzahl Spalte 13, 16 und 17)</th><th>Erwachsene 21 bis unter 23 Jahre - Anzahl</th><th>Erwachsene 23 bis unter 25 Jahre - Anzahl</th><th>Erwachsene 21 bis unter 25 Jahre (Anzahl Spalte 19 und 20)</th><th>Erwachsene 25 bis unter 30 Jahre</th><th>Erwachsene 30 bis unter 40 Jahre</th><th>Erwachsene 40 bis unter 50 Jahre</th><th>Erwachsene 50 bis unter 60 Jahre</th><th>Erwachsene 60 Jahre und aelter</th><th>Erwachsene ab 21 Jahre (Anzahl Spalten 21 bis 26)</th><th>Tatverdaechtige insgesamt - Anzahl</th></tr><tr><td>str</td><td>str</td><td>i64</td><td>str</td><td>str</td><td>str</td><td>str</td><td>i64</td><td>i64</td><td>i64</td><td>i64</td><td>i64</td><td>str</td><td>str</td><td>str</td><td>str</td><td>str</td><td>str</td><td>str</td><td>str</td><td>str</td><td>str</td><td>str</td><td>str</td><td>str</td><td>str</td><td>str</td><td>str</td></tr></thead><tbody><tr><td>&quot;------&quot;</td><td>&quot;Straftaten insgesamt&quot;</td><td>1001</td><td>&quot;Flensburg&quot;</td><td>&quot;KfS&quot;</td><td>&quot;M&quot;</td><td>&quot;1,652&quot;</td><td>0</td><td>4</td><td>10</td><td>13</td><td>28</td><td>&quot;55&quot;</td><td>&quot;59&quot;</td><td>&quot;74&quot;</td><td>&quot;133&quot;</td><td>&quot;139&quot;</td><td>&quot;327&quot;</td><td>&quot;115&quot;</td><td>&quot;107&quot;</td><td>&quot;222&quot;</td><td>&quot;226&quot;</td><td>&quot;372&quot;</td><td>&quot;235&quot;</td><td>&quot;168&quot;</td><td>&quot;102&quot;</td><td>&quot;1,325&quot;</td><td>null</td></tr><tr><td>&quot;------&quot;</td><td>&quot;Straftaten insgesamt&quot;</td><td>1002</td><td>&quot;Kiel&quot;</td><td>&quot;KfS&quot;</td><td>&quot;M&quot;</td><td>&quot;4,215&quot;</td><td>1</td><td>12</td><td>15</td><td>29</td><td>61</td><td>&quot;118&quot;</td><td>&quot;177&quot;</td><td>&quot;184&quot;</td><td>&quot;361&quot;</td><td>&quot;331&quot;</td><td>&quot;810&quot;</td><td>&quot;279&quot;</td><td>&quot;246&quot;</td><td>&quot;525&quot;</td><td>&quot;599&quot;</td><td>&quot;844&quot;</td><td>&quot;611&quot;</td><td>&quot;516&quot;</td><td>&quot;310&quot;</td><td>&quot;3,405&quot;</td><td>null</td></tr><tr><td>&quot;------&quot;</td><td>&quot;Straftaten insgesamt&quot;</td><td>1003</td><td>&quot;Lübeck&quot;</td><td>&quot;KfS&quot;</td><td>&quot;M&quot;</td><td>&quot;4,262&quot;</td><td>2</td><td>13</td><td>18</td><td>22</td><td>53</td><td>&quot;108&quot;</td><td>&quot;144&quot;</td><td>&quot;227&quot;</td><td>&quot;371&quot;</td><td>&quot;315&quot;</td><td>&quot;794&quot;</td><td>&quot;246&quot;</td><td>&quot;251&quot;</td><td>&quot;497&quot;</td><td>&quot;536&quot;</td><td>&quot;903&quot;</td><td>&quot;636&quot;</td><td>&quot;560&quot;</td><td>&quot;336&quot;</td><td>&quot;3,468&quot;</td><td>null</td></tr><tr><td>&quot;------&quot;</td><td>&quot;Straftaten insgesamt&quot;</td><td>1004</td><td>&quot;Neumünster&quot;</td><td>&quot;KfS&quot;</td><td>&quot;M&quot;</td><td>&quot;1,882&quot;</td><td>1</td><td>3</td><td>6</td><td>10</td><td>32</td><td>&quot;52&quot;</td><td>&quot;64&quot;</td><td>&quot;104&quot;</td><td>&quot;168&quot;</td><td>&quot;172&quot;</td><td>&quot;392&quot;</td><td>&quot;111&quot;</td><td>&quot;103&quot;</td><td>&quot;214&quot;</td><td>&quot;262&quot;</td><td>&quot;373&quot;</td><td>&quot;267&quot;</td><td>&quot;212&quot;</td><td>&quot;162&quot;</td><td>&quot;1,490&quot;</td><td>null</td></tr><tr><td>&quot;------&quot;</td><td>&quot;Straftaten insgesamt&quot;</td><td>1051</td><td>&quot;Dithmarschen&quot;</td><td>&quot;K&quot;</td><td>&quot;M&quot;</td><td>&quot;1,921&quot;</td><td>3</td><td>3</td><td>7</td><td>23</td><td>40</td><td>&quot;76&quot;</td><td>&quot;95&quot;</td><td>&quot;107&quot;</td><td>&quot;202&quot;</td><td>&quot;188&quot;</td><td>&quot;466&quot;</td><td>&quot;105&quot;</td><td>&quot;112&quot;</td><td>&quot;217&quot;</td><td>&quot;232&quot;</td><td>&quot;332&quot;</td><td>&quot;245&quot;</td><td>&quot;237&quot;</td><td>&quot;192&quot;</td><td>&quot;1,455&quot;</td><td>null</td></tr><tr><td>&hellip;</td><td>&hellip;</td><td>&hellip;</td><td>&hellip;</td><td>&hellip;</td><td>&hellip;</td><td>&hellip;</td><td>&hellip;</td><td>&hellip;</td><td>&hellip;</td><td>&hellip;</td><td>&hellip;</td><td>&hellip;</td><td>&hellip;</td><td>&hellip;</td><td>&hellip;</td><td>&hellip;</td><td>&hellip;</td><td>&hellip;</td><td>&hellip;</td><td>&hellip;</td><td>&hellip;</td><td>&hellip;</td><td>&hellip;</td><td>&hellip;</td><td>&hellip;</td><td>&hellip;</td><td>&hellip;</td></tr><tr><td>&quot;972500&quot;</td><td>&quot;Unerlaubt eingereiste/aufhälti…</td><td>16073</td><td>&quot;Saalfeld-Rudolstadt&quot;</td><td>&quot;LK&quot;</td><td>&quot;X&quot;</td><td>null</td><td>0</td><td>0</td><td>0</td><td>0</td><td>0</td><td>&quot;0&quot;</td><td>&quot;0&quot;</td><td>&quot;0&quot;</td><td>&quot;0&quot;</td><td>&quot;0&quot;</td><td>&quot;0&quot;</td><td>&quot;0&quot;</td><td>&quot;0&quot;</td><td>&quot;0&quot;</td><td>&quot;0&quot;</td><td>&quot;0&quot;</td><td>&quot;0&quot;</td><td>&quot;0&quot;</td><td>&quot;0&quot;</td><td>&quot;0&quot;</td><td>&quot;0&quot;</td></tr><tr><td>&quot;972500&quot;</td><td>&quot;Unerlaubt eingereiste/aufhälti…</td><td>16074</td><td>&quot;Saale-Holzland-Kreis&quot;</td><td>&quot;LK&quot;</td><td>&quot;X&quot;</td><td>null</td><td>0</td><td>0</td><td>0</td><td>0</td><td>0</td><td>&quot;0&quot;</td><td>&quot;0&quot;</td><td>&quot;0&quot;</td><td>&quot;0&quot;</td><td>&quot;0&quot;</td><td>&quot;0&quot;</td><td>&quot;0&quot;</td><td>&quot;0&quot;</td><td>&quot;0&quot;</td><td>&quot;0&quot;</td><td>&quot;0&quot;</td><td>&quot;0&quot;</td><td>&quot;0&quot;</td><td>&quot;0&quot;</td><td>&quot;0&quot;</td><td>&quot;0&quot;</td></tr><tr><td>&quot;972500&quot;</td><td>&quot;Unerlaubt eingereiste/aufhälti…</td><td>16075</td><td>&quot;Saale-Orla-Kreis&quot;</td><td>&quot;LK&quot;</td><td>&quot;X&quot;</td><td>null</td><td>0</td><td>0</td><td>0</td><td>0</td><td>0</td><td>&quot;0&quot;</td><td>&quot;0&quot;</td><td>&quot;0&quot;</td><td>&quot;0&quot;</td><td>&quot;0&quot;</td><td>&quot;0&quot;</td><td>&quot;0&quot;</td><td>&quot;0&quot;</td><td>&quot;0&quot;</td><td>&quot;0&quot;</td><td>&quot;0&quot;</td><td>&quot;0&quot;</td><td>&quot;0&quot;</td><td>&quot;0&quot;</td><td>&quot;0&quot;</td><td>&quot;0&quot;</td></tr><tr><td>&quot;972500&quot;</td><td>&quot;Unerlaubt eingereiste/aufhälti…</td><td>16076</td><td>&quot;Greiz&quot;</td><td>&quot;LK&quot;</td><td>&quot;X&quot;</td><td>null</td><td>0</td><td>0</td><td>0</td><td>0</td><td>0</td><td>&quot;0&quot;</td><td>&quot;0&quot;</td><td>&quot;0&quot;</td><td>&quot;0&quot;</td><td>&quot;0&quot;</td><td>&quot;0&quot;</td><td>&quot;0&quot;</td><td>&quot;0&quot;</td><td>&quot;0&quot;</td><td>&quot;0&quot;</td><td>&quot;0&quot;</td><td>&quot;0&quot;</td><td>&quot;0&quot;</td><td>&quot;0&quot;</td><td>&quot;0&quot;</td><td>&quot;0&quot;</td></tr><tr><td>&quot;972500&quot;</td><td>&quot;Unerlaubt eingereiste/aufhälti…</td><td>16077</td><td>&quot;Altenburger Land&quot;</td><td>&quot;LK&quot;</td><td>&quot;X&quot;</td><td>null</td><td>0</td><td>0</td><td>0</td><td>0</td><td>0</td><td>&quot;0&quot;</td><td>&quot;0&quot;</td><td>&quot;0&quot;</td><td>&quot;0&quot;</td><td>&quot;0&quot;</td><td>&quot;0&quot;</td><td>&quot;0&quot;</td><td>&quot;0&quot;</td><td>&quot;0&quot;</td><td>&quot;0&quot;</td><td>&quot;0&quot;</td><td>&quot;0&quot;</td><td>&quot;0&quot;</td><td>&quot;0&quot;</td><td>&quot;0&quot;</td><td>&quot;0&quot;</td></tr></tbody></table></div>"
      ],
      "text/plain": [
       "shape: (200_775, 28)\n",
       "┌─────┬─────┬─────┬─────┬─────┬─────┬─────┬─────┬─────┬─────┬─────┬─────┬─────┬─────┬─────┬─────┬─────┬─────┬─────┬─────┬─────┬─────┬─────┬─────┬─────┬─────┬─────┬─────┐\n",
       "│ Sch ┆ Str ┆ Gem ┆ Sta ┆ Kre ┆ Sex ┆ Tat ┆ Kin ┆ Kin ┆ Kin ┆ Kin ┆ Kin ┆ Kin ┆ Jug ┆ Jug ┆ Jug ┆ Her ┆ Tat ┆ Erw ┆ Erw ┆ Erw ┆ Erw ┆ Erw ┆ Erw ┆ Erw ┆ Erw ┆ Erw ┆ Tat │\n",
       "│ lue ┆ aft ┆ ein ┆ dt/ ┆ isa ┆ us  ┆ ver ┆ der ┆ der ┆ der ┆ der ┆ der ┆ der ┆ end ┆ end ┆ end ┆ anw ┆ ver ┆ ach ┆ ach ┆ ach ┆ ach ┆ ach ┆ ach ┆ ach ┆ ach ┆ ach ┆ ver │\n",
       "│ sse ┆ at  ┆ des ┆ Lan ┆ rt  ┆ --- ┆ dae ┆ bis ┆ 6   ┆ 8   ┆ 10  ┆ 12  ┆ bis ┆ lic ┆ lic ┆ lic ┆ ach ┆ dae ┆ sen ┆ sen ┆ sen ┆ sen ┆ sen ┆ sen ┆ sen ┆ sen ┆ sen ┆ dae │\n",
       "│ l   ┆ --- ┆ chl ┆ dkr ┆ --- ┆ str ┆ cht ┆ unt ┆ bis ┆ bis ┆ bis ┆ bis ┆ unt ┆ he  ┆ he  ┆ he  ┆ sen ┆ cht ┆ e   ┆ e   ┆ e   ┆ e   ┆ e   ┆ e   ┆ e   ┆ e   ┆ e   ┆ cht │\n",
       "│ --- ┆ str ┆ ues ┆ eis ┆ str ┆     ┆ ige ┆ er  ┆ unt ┆ unt ┆ unt ┆ unt ┆ er  ┆ 14  ┆ 16  ┆ 14  ┆ de  ┆ ige ┆ 21  ┆ 23  ┆ 21  ┆ 25  ┆ 30  ┆ 40  ┆ 50  ┆ 60  ┆ ab  ┆ ige │\n",
       "│ str ┆     ┆ sel ┆ --- ┆     ┆     ┆ deu ┆ 6   ┆ er  ┆ er  ┆ er  ┆ er  ┆ 14  ┆ bis ┆ bis ┆ bis ┆ 18  ┆ ins ┆ bis ┆ bis ┆ bis ┆ bis ┆ bis ┆ bis ┆ bis ┆ Jah ┆ 21  ┆ ins │\n",
       "│     ┆     ┆ --- ┆ str ┆     ┆     ┆ tsc ┆ Jah ┆ 8   ┆ 10  ┆ 12  ┆ 14  ┆ Jah ┆ unt ┆ unt ┆ unt ┆ bis ┆ ges ┆ unt ┆ unt ┆ unt ┆ unt ┆ unt ┆ unt ┆ unt ┆ re  ┆ Jah ┆ ges │\n",
       "│     ┆     ┆ i64 ┆     ┆     ┆     ┆ h   ┆ re  ┆ Jah ┆ Jah ┆ Jah ┆ Jah ┆ re  ┆ er  ┆ er  ┆ er  ┆ unt ┆ amt ┆ er  ┆ er  ┆ er  ┆ er  ┆ er  ┆ er  ┆ er  ┆ und ┆ re  ┆ amt │\n",
       "│     ┆     ┆     ┆     ┆     ┆     ┆ ins ┆ -   ┆ re  ┆ re  ┆ re  ┆ re  ┆ ins ┆ 16  ┆ 18  ┆ 18  ┆ er  ┆ unt ┆ 23  ┆ 25  ┆ 25  ┆ 30  ┆ 40  ┆ 50  ┆ 60  ┆ ael ┆ (An ┆ -   │\n",
       "│     ┆     ┆     ┆     ┆     ┆     ┆ ges ┆ Anz ┆ Anz ┆ - … ┆ -…  ┆ -…  ┆ g…  ┆ Ja… ┆ Ja… ┆ Ja… ┆ 21… ┆ e…  ┆ Jah ┆ Jah ┆ Jah ┆ Jah ┆ Jah ┆ Jah ┆ Jah ┆ ter ┆ zah ┆ An… │\n",
       "│     ┆     ┆     ┆     ┆     ┆     ┆ …   ┆ …   ┆ …   ┆ --- ┆ --- ┆ --- ┆ --- ┆ --- ┆ --- ┆ --- ┆ --- ┆ --- ┆ …   ┆ …   ┆ …   ┆ …   ┆ …   ┆ …   ┆ …   ┆ --- ┆ l…  ┆ --- │\n",
       "│     ┆     ┆     ┆     ┆     ┆     ┆ --- ┆ --- ┆ --- ┆ i64 ┆ i64 ┆ i64 ┆ str ┆ str ┆ str ┆ str ┆ str ┆ str ┆ --- ┆ --- ┆ --- ┆ --- ┆ --- ┆ --- ┆ --- ┆ str ┆ --- ┆ str │\n",
       "│     ┆     ┆     ┆     ┆     ┆     ┆ str ┆ i64 ┆ i64 ┆     ┆     ┆     ┆     ┆     ┆     ┆     ┆     ┆     ┆ str ┆ str ┆ str ┆ str ┆ str ┆ str ┆ str ┆     ┆ str ┆     │\n",
       "╞═════╪═════╪═════╪═════╪═════╪═════╪═════╪═════╪═════╪═════╪═════╪═════╪═════╪═════╪═════╪═════╪═════╪═════╪═════╪═════╪═════╪═════╪═════╪═════╪═════╪═════╪═════╪═════╡\n",
       "│ --- ┆ Str ┆ 100 ┆ Fle ┆ KfS ┆ M   ┆ 1,6 ┆ 0   ┆ 4   ┆ 10  ┆ 13  ┆ 28  ┆ 55  ┆ 59  ┆ 74  ┆ 133 ┆ 139 ┆ 327 ┆ 115 ┆ 107 ┆ 222 ┆ 226 ┆ 372 ┆ 235 ┆ 168 ┆ 102 ┆ 1,3 ┆ nul │\n",
       "│ --- ┆ aft ┆ 1   ┆ nsb ┆     ┆     ┆ 52  ┆     ┆     ┆     ┆     ┆     ┆     ┆     ┆     ┆     ┆     ┆     ┆     ┆     ┆     ┆     ┆     ┆     ┆     ┆     ┆ 25  ┆ l   │\n",
       "│     ┆ ate ┆     ┆ urg ┆     ┆     ┆     ┆     ┆     ┆     ┆     ┆     ┆     ┆     ┆     ┆     ┆     ┆     ┆     ┆     ┆     ┆     ┆     ┆     ┆     ┆     ┆     ┆     │\n",
       "│     ┆ n   ┆     ┆     ┆     ┆     ┆     ┆     ┆     ┆     ┆     ┆     ┆     ┆     ┆     ┆     ┆     ┆     ┆     ┆     ┆     ┆     ┆     ┆     ┆     ┆     ┆     ┆     │\n",
       "│     ┆ ins ┆     ┆     ┆     ┆     ┆     ┆     ┆     ┆     ┆     ┆     ┆     ┆     ┆     ┆     ┆     ┆     ┆     ┆     ┆     ┆     ┆     ┆     ┆     ┆     ┆     ┆     │\n",
       "│     ┆ ges ┆     ┆     ┆     ┆     ┆     ┆     ┆     ┆     ┆     ┆     ┆     ┆     ┆     ┆     ┆     ┆     ┆     ┆     ┆     ┆     ┆     ┆     ┆     ┆     ┆     ┆     │\n",
       "│     ┆ amt ┆     ┆     ┆     ┆     ┆     ┆     ┆     ┆     ┆     ┆     ┆     ┆     ┆     ┆     ┆     ┆     ┆     ┆     ┆     ┆     ┆     ┆     ┆     ┆     ┆     ┆     │\n",
       "│ --- ┆ Str ┆ 100 ┆ Kie ┆ KfS ┆ M   ┆ 4,2 ┆ 1   ┆ 12  ┆ 15  ┆ 29  ┆ 61  ┆ 118 ┆ 177 ┆ 184 ┆ 361 ┆ 331 ┆ 810 ┆ 279 ┆ 246 ┆ 525 ┆ 599 ┆ 844 ┆ 611 ┆ 516 ┆ 310 ┆ 3,4 ┆ nul │\n",
       "│ --- ┆ aft ┆ 2   ┆ l   ┆     ┆     ┆ 15  ┆     ┆     ┆     ┆     ┆     ┆     ┆     ┆     ┆     ┆     ┆     ┆     ┆     ┆     ┆     ┆     ┆     ┆     ┆     ┆ 05  ┆ l   │\n",
       "│     ┆ ate ┆     ┆     ┆     ┆     ┆     ┆     ┆     ┆     ┆     ┆     ┆     ┆     ┆     ┆     ┆     ┆     ┆     ┆     ┆     ┆     ┆     ┆     ┆     ┆     ┆     ┆     │\n",
       "│     ┆ n   ┆     ┆     ┆     ┆     ┆     ┆     ┆     ┆     ┆     ┆     ┆     ┆     ┆     ┆     ┆     ┆     ┆     ┆     ┆     ┆     ┆     ┆     ┆     ┆     ┆     ┆     │\n",
       "│     ┆ ins ┆     ┆     ┆     ┆     ┆     ┆     ┆     ┆     ┆     ┆     ┆     ┆     ┆     ┆     ┆     ┆     ┆     ┆     ┆     ┆     ┆     ┆     ┆     ┆     ┆     ┆     │\n",
       "│     ┆ ges ┆     ┆     ┆     ┆     ┆     ┆     ┆     ┆     ┆     ┆     ┆     ┆     ┆     ┆     ┆     ┆     ┆     ┆     ┆     ┆     ┆     ┆     ┆     ┆     ┆     ┆     │\n",
       "│     ┆ amt ┆     ┆     ┆     ┆     ┆     ┆     ┆     ┆     ┆     ┆     ┆     ┆     ┆     ┆     ┆     ┆     ┆     ┆     ┆     ┆     ┆     ┆     ┆     ┆     ┆     ┆     │\n",
       "│ --- ┆ Str ┆ 100 ┆ Lüb ┆ KfS ┆ M   ┆ 4,2 ┆ 2   ┆ 13  ┆ 18  ┆ 22  ┆ 53  ┆ 108 ┆ 144 ┆ 227 ┆ 371 ┆ 315 ┆ 794 ┆ 246 ┆ 251 ┆ 497 ┆ 536 ┆ 903 ┆ 636 ┆ 560 ┆ 336 ┆ 3,4 ┆ nul │\n",
       "│ --- ┆ aft ┆ 3   ┆ eck ┆     ┆     ┆ 62  ┆     ┆     ┆     ┆     ┆     ┆     ┆     ┆     ┆     ┆     ┆     ┆     ┆     ┆     ┆     ┆     ┆     ┆     ┆     ┆ 68  ┆ l   │\n",
       "│     ┆ ate ┆     ┆     ┆     ┆     ┆     ┆     ┆     ┆     ┆     ┆     ┆     ┆     ┆     ┆     ┆     ┆     ┆     ┆     ┆     ┆     ┆     ┆     ┆     ┆     ┆     ┆     │\n",
       "│     ┆ n   ┆     ┆     ┆     ┆     ┆     ┆     ┆     ┆     ┆     ┆     ┆     ┆     ┆     ┆     ┆     ┆     ┆     ┆     ┆     ┆     ┆     ┆     ┆     ┆     ┆     ┆     │\n",
       "│     ┆ ins ┆     ┆     ┆     ┆     ┆     ┆     ┆     ┆     ┆     ┆     ┆     ┆     ┆     ┆     ┆     ┆     ┆     ┆     ┆     ┆     ┆     ┆     ┆     ┆     ┆     ┆     │\n",
       "│     ┆ ges ┆     ┆     ┆     ┆     ┆     ┆     ┆     ┆     ┆     ┆     ┆     ┆     ┆     ┆     ┆     ┆     ┆     ┆     ┆     ┆     ┆     ┆     ┆     ┆     ┆     ┆     │\n",
       "│     ┆ amt ┆     ┆     ┆     ┆     ┆     ┆     ┆     ┆     ┆     ┆     ┆     ┆     ┆     ┆     ┆     ┆     ┆     ┆     ┆     ┆     ┆     ┆     ┆     ┆     ┆     ┆     │\n",
       "│ --- ┆ Str ┆ 100 ┆ Neu ┆ KfS ┆ M   ┆ 1,8 ┆ 1   ┆ 3   ┆ 6   ┆ 10  ┆ 32  ┆ 52  ┆ 64  ┆ 104 ┆ 168 ┆ 172 ┆ 392 ┆ 111 ┆ 103 ┆ 214 ┆ 262 ┆ 373 ┆ 267 ┆ 212 ┆ 162 ┆ 1,4 ┆ nul │\n",
       "│ --- ┆ aft ┆ 4   ┆ mün ┆     ┆     ┆ 82  ┆     ┆     ┆     ┆     ┆     ┆     ┆     ┆     ┆     ┆     ┆     ┆     ┆     ┆     ┆     ┆     ┆     ┆     ┆     ┆ 90  ┆ l   │\n",
       "│     ┆ ate ┆     ┆ ste ┆     ┆     ┆     ┆     ┆     ┆     ┆     ┆     ┆     ┆     ┆     ┆     ┆     ┆     ┆     ┆     ┆     ┆     ┆     ┆     ┆     ┆     ┆     ┆     │\n",
       "│     ┆ n   ┆     ┆ r   ┆     ┆     ┆     ┆     ┆     ┆     ┆     ┆     ┆     ┆     ┆     ┆     ┆     ┆     ┆     ┆     ┆     ┆     ┆     ┆     ┆     ┆     ┆     ┆     │\n",
       "│     ┆ ins ┆     ┆     ┆     ┆     ┆     ┆     ┆     ┆     ┆     ┆     ┆     ┆     ┆     ┆     ┆     ┆     ┆     ┆     ┆     ┆     ┆     ┆     ┆     ┆     ┆     ┆     │\n",
       "│     ┆ ges ┆     ┆     ┆     ┆     ┆     ┆     ┆     ┆     ┆     ┆     ┆     ┆     ┆     ┆     ┆     ┆     ┆     ┆     ┆     ┆     ┆     ┆     ┆     ┆     ┆     ┆     │\n",
       "│     ┆ amt ┆     ┆     ┆     ┆     ┆     ┆     ┆     ┆     ┆     ┆     ┆     ┆     ┆     ┆     ┆     ┆     ┆     ┆     ┆     ┆     ┆     ┆     ┆     ┆     ┆     ┆     │\n",
       "│ --- ┆ Str ┆ 105 ┆ Dit ┆ K   ┆ M   ┆ 1,9 ┆ 3   ┆ 3   ┆ 7   ┆ 23  ┆ 40  ┆ 76  ┆ 95  ┆ 107 ┆ 202 ┆ 188 ┆ 466 ┆ 105 ┆ 112 ┆ 217 ┆ 232 ┆ 332 ┆ 245 ┆ 237 ┆ 192 ┆ 1,4 ┆ nul │\n",
       "│ --- ┆ aft ┆ 1   ┆ hma ┆     ┆     ┆ 21  ┆     ┆     ┆     ┆     ┆     ┆     ┆     ┆     ┆     ┆     ┆     ┆     ┆     ┆     ┆     ┆     ┆     ┆     ┆     ┆ 55  ┆ l   │\n",
       "│     ┆ ate ┆     ┆ rsc ┆     ┆     ┆     ┆     ┆     ┆     ┆     ┆     ┆     ┆     ┆     ┆     ┆     ┆     ┆     ┆     ┆     ┆     ┆     ┆     ┆     ┆     ┆     ┆     │\n",
       "│     ┆ n   ┆     ┆ hen ┆     ┆     ┆     ┆     ┆     ┆     ┆     ┆     ┆     ┆     ┆     ┆     ┆     ┆     ┆     ┆     ┆     ┆     ┆     ┆     ┆     ┆     ┆     ┆     │\n",
       "│     ┆ ins ┆     ┆     ┆     ┆     ┆     ┆     ┆     ┆     ┆     ┆     ┆     ┆     ┆     ┆     ┆     ┆     ┆     ┆     ┆     ┆     ┆     ┆     ┆     ┆     ┆     ┆     │\n",
       "│     ┆ ges ┆     ┆     ┆     ┆     ┆     ┆     ┆     ┆     ┆     ┆     ┆     ┆     ┆     ┆     ┆     ┆     ┆     ┆     ┆     ┆     ┆     ┆     ┆     ┆     ┆     ┆     │\n",
       "│     ┆ amt ┆     ┆     ┆     ┆     ┆     ┆     ┆     ┆     ┆     ┆     ┆     ┆     ┆     ┆     ┆     ┆     ┆     ┆     ┆     ┆     ┆     ┆     ┆     ┆     ┆     ┆     │\n",
       "│ …   ┆ …   ┆ …   ┆ …   ┆ …   ┆ …   ┆ …   ┆ …   ┆ …   ┆ …   ┆ …   ┆ …   ┆ …   ┆ …   ┆ …   ┆ …   ┆ …   ┆ …   ┆ …   ┆ …   ┆ …   ┆ …   ┆ …   ┆ …   ┆ …   ┆ …   ┆ …   ┆ …   │\n",
       "│ 972 ┆ Une ┆ 160 ┆ Saa ┆ LK  ┆ X   ┆ nul ┆ 0   ┆ 0   ┆ 0   ┆ 0   ┆ 0   ┆ 0   ┆ 0   ┆ 0   ┆ 0   ┆ 0   ┆ 0   ┆ 0   ┆ 0   ┆ 0   ┆ 0   ┆ 0   ┆ 0   ┆ 0   ┆ 0   ┆ 0   ┆ 0   │\n",
       "│ 500 ┆ rla ┆ 73  ┆ lfe ┆     ┆     ┆ l   ┆     ┆     ┆     ┆     ┆     ┆     ┆     ┆     ┆     ┆     ┆     ┆     ┆     ┆     ┆     ┆     ┆     ┆     ┆     ┆     ┆     │\n",
       "│     ┆ ubt ┆     ┆ ld- ┆     ┆     ┆     ┆     ┆     ┆     ┆     ┆     ┆     ┆     ┆     ┆     ┆     ┆     ┆     ┆     ┆     ┆     ┆     ┆     ┆     ┆     ┆     ┆     │\n",
       "│     ┆ ein ┆     ┆ Rud ┆     ┆     ┆     ┆     ┆     ┆     ┆     ┆     ┆     ┆     ┆     ┆     ┆     ┆     ┆     ┆     ┆     ┆     ┆     ┆     ┆     ┆     ┆     ┆     │\n",
       "│     ┆ ger ┆     ┆ ols ┆     ┆     ┆     ┆     ┆     ┆     ┆     ┆     ┆     ┆     ┆     ┆     ┆     ┆     ┆     ┆     ┆     ┆     ┆     ┆     ┆     ┆     ┆     ┆     │\n",
       "│     ┆ eis ┆     ┆ tad ┆     ┆     ┆     ┆     ┆     ┆     ┆     ┆     ┆     ┆     ┆     ┆     ┆     ┆     ┆     ┆     ┆     ┆     ┆     ┆     ┆     ┆     ┆     ┆     │\n",
       "│     ┆ te/ ┆     ┆ t   ┆     ┆     ┆     ┆     ┆     ┆     ┆     ┆     ┆     ┆     ┆     ┆     ┆     ┆     ┆     ┆     ┆     ┆     ┆     ┆     ┆     ┆     ┆     ┆     │\n",
       "│     ┆ auf ┆     ┆     ┆     ┆     ┆     ┆     ┆     ┆     ┆     ┆     ┆     ┆     ┆     ┆     ┆     ┆     ┆     ┆     ┆     ┆     ┆     ┆     ┆     ┆     ┆     ┆     │\n",
       "│     ┆ häl ┆     ┆     ┆     ┆     ┆     ┆     ┆     ┆     ┆     ┆     ┆     ┆     ┆     ┆     ┆     ┆     ┆     ┆     ┆     ┆     ┆     ┆     ┆     ┆     ┆     ┆     │\n",
       "│     ┆ ti… ┆     ┆     ┆     ┆     ┆     ┆     ┆     ┆     ┆     ┆     ┆     ┆     ┆     ┆     ┆     ┆     ┆     ┆     ┆     ┆     ┆     ┆     ┆     ┆     ┆     ┆     │\n",
       "│ 972 ┆ Une ┆ 160 ┆ Saa ┆ LK  ┆ X   ┆ nul ┆ 0   ┆ 0   ┆ 0   ┆ 0   ┆ 0   ┆ 0   ┆ 0   ┆ 0   ┆ 0   ┆ 0   ┆ 0   ┆ 0   ┆ 0   ┆ 0   ┆ 0   ┆ 0   ┆ 0   ┆ 0   ┆ 0   ┆ 0   ┆ 0   │\n",
       "│ 500 ┆ rla ┆ 74  ┆ le- ┆     ┆     ┆ l   ┆     ┆     ┆     ┆     ┆     ┆     ┆     ┆     ┆     ┆     ┆     ┆     ┆     ┆     ┆     ┆     ┆     ┆     ┆     ┆     ┆     │\n",
       "│     ┆ ubt ┆     ┆ Hol ┆     ┆     ┆     ┆     ┆     ┆     ┆     ┆     ┆     ┆     ┆     ┆     ┆     ┆     ┆     ┆     ┆     ┆     ┆     ┆     ┆     ┆     ┆     ┆     │\n",
       "│     ┆ ein ┆     ┆ zla ┆     ┆     ┆     ┆     ┆     ┆     ┆     ┆     ┆     ┆     ┆     ┆     ┆     ┆     ┆     ┆     ┆     ┆     ┆     ┆     ┆     ┆     ┆     ┆     │\n",
       "│     ┆ ger ┆     ┆ nd- ┆     ┆     ┆     ┆     ┆     ┆     ┆     ┆     ┆     ┆     ┆     ┆     ┆     ┆     ┆     ┆     ┆     ┆     ┆     ┆     ┆     ┆     ┆     ┆     │\n",
       "│     ┆ eis ┆     ┆ Kre ┆     ┆     ┆     ┆     ┆     ┆     ┆     ┆     ┆     ┆     ┆     ┆     ┆     ┆     ┆     ┆     ┆     ┆     ┆     ┆     ┆     ┆     ┆     ┆     │\n",
       "│     ┆ te/ ┆     ┆ is  ┆     ┆     ┆     ┆     ┆     ┆     ┆     ┆     ┆     ┆     ┆     ┆     ┆     ┆     ┆     ┆     ┆     ┆     ┆     ┆     ┆     ┆     ┆     ┆     │\n",
       "│     ┆ auf ┆     ┆     ┆     ┆     ┆     ┆     ┆     ┆     ┆     ┆     ┆     ┆     ┆     ┆     ┆     ┆     ┆     ┆     ┆     ┆     ┆     ┆     ┆     ┆     ┆     ┆     │\n",
       "│     ┆ häl ┆     ┆     ┆     ┆     ┆     ┆     ┆     ┆     ┆     ┆     ┆     ┆     ┆     ┆     ┆     ┆     ┆     ┆     ┆     ┆     ┆     ┆     ┆     ┆     ┆     ┆     │\n",
       "│     ┆ ti… ┆     ┆     ┆     ┆     ┆     ┆     ┆     ┆     ┆     ┆     ┆     ┆     ┆     ┆     ┆     ┆     ┆     ┆     ┆     ┆     ┆     ┆     ┆     ┆     ┆     ┆     │\n",
       "│ 972 ┆ Une ┆ 160 ┆ Saa ┆ LK  ┆ X   ┆ nul ┆ 0   ┆ 0   ┆ 0   ┆ 0   ┆ 0   ┆ 0   ┆ 0   ┆ 0   ┆ 0   ┆ 0   ┆ 0   ┆ 0   ┆ 0   ┆ 0   ┆ 0   ┆ 0   ┆ 0   ┆ 0   ┆ 0   ┆ 0   ┆ 0   │\n",
       "│ 500 ┆ rla ┆ 75  ┆ le- ┆     ┆     ┆ l   ┆     ┆     ┆     ┆     ┆     ┆     ┆     ┆     ┆     ┆     ┆     ┆     ┆     ┆     ┆     ┆     ┆     ┆     ┆     ┆     ┆     │\n",
       "│     ┆ ubt ┆     ┆ Orl ┆     ┆     ┆     ┆     ┆     ┆     ┆     ┆     ┆     ┆     ┆     ┆     ┆     ┆     ┆     ┆     ┆     ┆     ┆     ┆     ┆     ┆     ┆     ┆     │\n",
       "│     ┆ ein ┆     ┆ a-K ┆     ┆     ┆     ┆     ┆     ┆     ┆     ┆     ┆     ┆     ┆     ┆     ┆     ┆     ┆     ┆     ┆     ┆     ┆     ┆     ┆     ┆     ┆     ┆     │\n",
       "│     ┆ ger ┆     ┆ rei ┆     ┆     ┆     ┆     ┆     ┆     ┆     ┆     ┆     ┆     ┆     ┆     ┆     ┆     ┆     ┆     ┆     ┆     ┆     ┆     ┆     ┆     ┆     ┆     │\n",
       "│     ┆ eis ┆     ┆ s   ┆     ┆     ┆     ┆     ┆     ┆     ┆     ┆     ┆     ┆     ┆     ┆     ┆     ┆     ┆     ┆     ┆     ┆     ┆     ┆     ┆     ┆     ┆     ┆     │\n",
       "│     ┆ te/ ┆     ┆     ┆     ┆     ┆     ┆     ┆     ┆     ┆     ┆     ┆     ┆     ┆     ┆     ┆     ┆     ┆     ┆     ┆     ┆     ┆     ┆     ┆     ┆     ┆     ┆     │\n",
       "│     ┆ auf ┆     ┆     ┆     ┆     ┆     ┆     ┆     ┆     ┆     ┆     ┆     ┆     ┆     ┆     ┆     ┆     ┆     ┆     ┆     ┆     ┆     ┆     ┆     ┆     ┆     ┆     │\n",
       "│     ┆ häl ┆     ┆     ┆     ┆     ┆     ┆     ┆     ┆     ┆     ┆     ┆     ┆     ┆     ┆     ┆     ┆     ┆     ┆     ┆     ┆     ┆     ┆     ┆     ┆     ┆     ┆     │\n",
       "│     ┆ ti… ┆     ┆     ┆     ┆     ┆     ┆     ┆     ┆     ┆     ┆     ┆     ┆     ┆     ┆     ┆     ┆     ┆     ┆     ┆     ┆     ┆     ┆     ┆     ┆     ┆     ┆     │\n",
       "│ 972 ┆ Une ┆ 160 ┆ Gre ┆ LK  ┆ X   ┆ nul ┆ 0   ┆ 0   ┆ 0   ┆ 0   ┆ 0   ┆ 0   ┆ 0   ┆ 0   ┆ 0   ┆ 0   ┆ 0   ┆ 0   ┆ 0   ┆ 0   ┆ 0   ┆ 0   ┆ 0   ┆ 0   ┆ 0   ┆ 0   ┆ 0   │\n",
       "│ 500 ┆ rla ┆ 76  ┆ iz  ┆     ┆     ┆ l   ┆     ┆     ┆     ┆     ┆     ┆     ┆     ┆     ┆     ┆     ┆     ┆     ┆     ┆     ┆     ┆     ┆     ┆     ┆     ┆     ┆     │\n",
       "│     ┆ ubt ┆     ┆     ┆     ┆     ┆     ┆     ┆     ┆     ┆     ┆     ┆     ┆     ┆     ┆     ┆     ┆     ┆     ┆     ┆     ┆     ┆     ┆     ┆     ┆     ┆     ┆     │\n",
       "│     ┆ ein ┆     ┆     ┆     ┆     ┆     ┆     ┆     ┆     ┆     ┆     ┆     ┆     ┆     ┆     ┆     ┆     ┆     ┆     ┆     ┆     ┆     ┆     ┆     ┆     ┆     ┆     │\n",
       "│     ┆ ger ┆     ┆     ┆     ┆     ┆     ┆     ┆     ┆     ┆     ┆     ┆     ┆     ┆     ┆     ┆     ┆     ┆     ┆     ┆     ┆     ┆     ┆     ┆     ┆     ┆     ┆     │\n",
       "│     ┆ eis ┆     ┆     ┆     ┆     ┆     ┆     ┆     ┆     ┆     ┆     ┆     ┆     ┆     ┆     ┆     ┆     ┆     ┆     ┆     ┆     ┆     ┆     ┆     ┆     ┆     ┆     │\n",
       "│     ┆ te/ ┆     ┆     ┆     ┆     ┆     ┆     ┆     ┆     ┆     ┆     ┆     ┆     ┆     ┆     ┆     ┆     ┆     ┆     ┆     ┆     ┆     ┆     ┆     ┆     ┆     ┆     │\n",
       "│     ┆ auf ┆     ┆     ┆     ┆     ┆     ┆     ┆     ┆     ┆     ┆     ┆     ┆     ┆     ┆     ┆     ┆     ┆     ┆     ┆     ┆     ┆     ┆     ┆     ┆     ┆     ┆     │\n",
       "│     ┆ häl ┆     ┆     ┆     ┆     ┆     ┆     ┆     ┆     ┆     ┆     ┆     ┆     ┆     ┆     ┆     ┆     ┆     ┆     ┆     ┆     ┆     ┆     ┆     ┆     ┆     ┆     │\n",
       "│     ┆ ti… ┆     ┆     ┆     ┆     ┆     ┆     ┆     ┆     ┆     ┆     ┆     ┆     ┆     ┆     ┆     ┆     ┆     ┆     ┆     ┆     ┆     ┆     ┆     ┆     ┆     ┆     │\n",
       "│ 972 ┆ Une ┆ 160 ┆ Alt ┆ LK  ┆ X   ┆ nul ┆ 0   ┆ 0   ┆ 0   ┆ 0   ┆ 0   ┆ 0   ┆ 0   ┆ 0   ┆ 0   ┆ 0   ┆ 0   ┆ 0   ┆ 0   ┆ 0   ┆ 0   ┆ 0   ┆ 0   ┆ 0   ┆ 0   ┆ 0   ┆ 0   │\n",
       "│ 500 ┆ rla ┆ 77  ┆ enb ┆     ┆     ┆ l   ┆     ┆     ┆     ┆     ┆     ┆     ┆     ┆     ┆     ┆     ┆     ┆     ┆     ┆     ┆     ┆     ┆     ┆     ┆     ┆     ┆     │\n",
       "│     ┆ ubt ┆     ┆ urg ┆     ┆     ┆     ┆     ┆     ┆     ┆     ┆     ┆     ┆     ┆     ┆     ┆     ┆     ┆     ┆     ┆     ┆     ┆     ┆     ┆     ┆     ┆     ┆     │\n",
       "│     ┆ ein ┆     ┆ er  ┆     ┆     ┆     ┆     ┆     ┆     ┆     ┆     ┆     ┆     ┆     ┆     ┆     ┆     ┆     ┆     ┆     ┆     ┆     ┆     ┆     ┆     ┆     ┆     │\n",
       "│     ┆ ger ┆     ┆ Lan ┆     ┆     ┆     ┆     ┆     ┆     ┆     ┆     ┆     ┆     ┆     ┆     ┆     ┆     ┆     ┆     ┆     ┆     ┆     ┆     ┆     ┆     ┆     ┆     │\n",
       "│     ┆ eis ┆     ┆ d   ┆     ┆     ┆     ┆     ┆     ┆     ┆     ┆     ┆     ┆     ┆     ┆     ┆     ┆     ┆     ┆     ┆     ┆     ┆     ┆     ┆     ┆     ┆     ┆     │\n",
       "│     ┆ te/ ┆     ┆     ┆     ┆     ┆     ┆     ┆     ┆     ┆     ┆     ┆     ┆     ┆     ┆     ┆     ┆     ┆     ┆     ┆     ┆     ┆     ┆     ┆     ┆     ┆     ┆     │\n",
       "│     ┆ auf ┆     ┆     ┆     ┆     ┆     ┆     ┆     ┆     ┆     ┆     ┆     ┆     ┆     ┆     ┆     ┆     ┆     ┆     ┆     ┆     ┆     ┆     ┆     ┆     ┆     ┆     │\n",
       "│     ┆ häl ┆     ┆     ┆     ┆     ┆     ┆     ┆     ┆     ┆     ┆     ┆     ┆     ┆     ┆     ┆     ┆     ┆     ┆     ┆     ┆     ┆     ┆     ┆     ┆     ┆     ┆     │\n",
       "│     ┆ ti… ┆     ┆     ┆     ┆     ┆     ┆     ┆     ┆     ┆     ┆     ┆     ┆     ┆     ┆     ┆     ┆     ┆     ┆     ┆     ┆     ┆     ┆     ┆     ┆     ┆     ┆     │\n",
       "└─────┴─────┴─────┴─────┴─────┴─────┴─────┴─────┴─────┴─────┴─────┴─────┴─────┴─────┴─────┴─────┴─────┴─────┴─────┴─────┴─────┴─────┴─────┴─────┴─────┴─────┴─────┴─────┘"
      ]
     },
     "execution_count": 18,
     "metadata": {},
     "output_type": "execute_result"
    }
   ],
   "source": [
    "# look at the data\n",
    "combined_df_all_years_germans"
   ]
  }
 ],
 "metadata": {
  "kernelspec": {
   "display_name": "Python 3 (ipykernel)",
   "language": "python",
   "name": "python3"
  },
  "language_info": {
   "codemirror_mode": {
    "name": "ipython",
    "version": 3
   },
   "file_extension": ".py",
   "mimetype": "text/x-python",
   "name": "python",
   "nbconvert_exporter": "python",
   "pygments_lexer": "ipython3",
   "version": "3.9.7"
  }
 },
 "nbformat": 4,
 "nbformat_minor": 5
}
